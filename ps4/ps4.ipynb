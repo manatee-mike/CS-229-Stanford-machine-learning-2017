{
 "cells": [
  {
   "cell_type": "markdown",
   "id": "5f55cafd-7c90-4fd7-a82a-fd4b5af9460b",
   "metadata": {
    "tags": []
   },
   "source": [
    "# Problem Set 4"
   ]
  },
  {
   "cell_type": "code",
   "execution_count": 1,
   "id": "7de366e5-ff90-45b5-95c1-7be27982c8ac",
   "metadata": {
    "tags": []
   },
   "outputs": [],
   "source": [
    "import matplotlib.pyplot as plt\n",
    "import numpy as np\n",
    "import pandas as pd\n",
    "import random\n",
    "import seaborn as sns\n",
    "\n",
    "%matplotlib inline"
   ]
  },
  {
   "cell_type": "code",
   "execution_count": 2,
   "id": "997dae15-7289-42e8-a917-2d71b561b1b4",
   "metadata": {},
   "outputs": [],
   "source": [
    "dataDir = \"./data/\"\n",
    "mnistDir = dataDir + \"mnist/\""
   ]
  },
  {
   "cell_type": "markdown",
   "id": "d0d53332-f1d4-4ec6-8d06-f9250992bd55",
   "metadata": {
    "tags": []
   },
   "source": [
    "# Question 1\n",
    "\n",
    "\n"
   ]
  },
  {
   "cell_type": "code",
   "execution_count": 3,
   "id": "80f3a339-2cc8-4717-acb0-0458457161d1",
   "metadata": {},
   "outputs": [],
   "source": [
    "def readData(images_file, labels_file):\n",
    "    x = np.loadtxt(images_file, delimiter=',')\n",
    "    y = np.loadtxt(labels_file, delimiter=',')\n",
    "    return x, y\n",
    "\n",
    "def nn_test(data, labels, params):\n",
    "    h, output, cost = forward_prop(data, labels, params)\n",
    "    accuracy = compute_accuracy(output, labels)\n",
    "    return accuracy\n",
    "\n",
    "def compute_accuracy(output, labels):\n",
    "    accuracy = (np.argmax(output,axis=1) == np.argmax(labels,axis=1)).sum() * 1. / labels.shape[0]\n",
    "    return accuracy\n",
    "\n",
    "def one_hot_labels(labels):\n",
    "    one_hot_labels = np.zeros((labels.size, 10))\n",
    "    one_hot_labels[np.arange(labels.size),labels.astype(int)] = 1\n",
    "    return one_hot_labels\n"
   ]
  },
  {
   "cell_type": "markdown",
   "id": "96ff7859-1558-4b58-88dc-c14b0c6a0a79",
   "metadata": {},
   "source": [
    "## Part A"
   ]
  },
  {
   "cell_type": "markdown",
   "id": "bf484d4a-b401-40d1-bc99-28f90b9d87a9",
   "metadata": {},
   "source": [
    "* softmax\n",
    "\n",
    "$$\n",
    "softmax(x)_i = \\frac{\\exp x_i}{\\sum_{i=1}^{d} \\exp x_i} = \\frac{\\exp \\left(x_i - \\max x \\right)}{\\sum_{i=1}^{d} \\exp \\left(x_i - \\max x \\right)}\n",
    "$$\n",
    "\n",
    "to prevent overflow you subtract the largest value as explained [here](https://stackoverflow.com/questions/42599498/numercially-stable-softmax). "
   ]
  },
  {
   "cell_type": "code",
   "execution_count": 4,
   "id": "7cec93c2-533a-44c1-8189-82c592857a1e",
   "metadata": {},
   "outputs": [],
   "source": [
    "def softmax(x):\n",
    "    \"\"\"\n",
    "    Compute softmax function for input. \n",
    "    Use tricks from previous assignment to avoid overflow\n",
    "    \"\"\"\n",
    "\t### YOUR CODE HERE\n",
    "    z = x - x.max(axis=1)[:,np.newaxis]\n",
    "    numerator = np.exp(z)\n",
    "    denominator = numerator.sum(axis=1)[:,np.newaxis]\n",
    "    s = numerator/denominator\n",
    "\t### END YOUR CODE\n",
    "    return s"
   ]
  },
  {
   "cell_type": "markdown",
   "id": "63b3b697-333a-4328-ad3a-fe5e26826237",
   "metadata": {},
   "source": [
    "* sigmoid\n",
    "\n",
    "$$\n",
    "\\sigma(x) = \\frac{1}{1 + \\exp -x} = \\frac{\\exp x}{1 + \\exp x}\n",
    "$$\n",
    "\n",
    "To prevent overflow you calculate $x_i$ differently based off of where or not $x_i$ is positive or negative [(source)](https://stackoverflow.com/questions/51976461/optimal-way-of-defining-a-numerically-stable-sigmoid-function-for-a-list-in-pyth). If $x_i \\ge 0$ use the middle term above and use the right hand term otherwise."
   ]
  },
  {
   "cell_type": "code",
   "execution_count": 5,
   "id": "40940472-8ea6-4d4a-92e8-3f33da44bbef",
   "metadata": {},
   "outputs": [],
   "source": [
    "def sigmoid(x):\n",
    "    \"\"\"\n",
    "    Compute the sigmoid function for the input here.\n",
    "    \"\"\"\n",
    "    ### YOUR CODE HERE\n",
    "\n",
    "    # init s\n",
    "    s = np.zeros(x.shape, dtype=float)\n",
    "    \n",
    "    # find positive values\n",
    "    pos = x >= 0\n",
    "    # negate to get negative values\n",
    "    neg = np.logical_not(pos)\n",
    "    \n",
    "    #calculate sigmoid for positive values\n",
    "    s[pos] = 1 / (1 + np.exp(-x[pos]))\n",
    "    # calculate sigmoid for negative values\n",
    "    s[neg] = np.exp(x[neg]) / (1 + np.exp(x[neg]))\n",
    "    ### END YOUR CODE\n",
    "    return s"
   ]
  },
  {
   "cell_type": "markdown",
   "id": "ced04efb-b1a6-4a46-bd53-4aec58a06a0e",
   "metadata": {},
   "source": [
    "* foward propogaton\n",
    "\n",
    "$$\n",
    "z^{[1]} = XW^{[1]} + b^{[1]}\n",
    "$$\n",
    "\n",
    "$$\n",
    "h = \\sigma(z^{[1]})\n",
    "$$\n",
    "\n",
    "$$\n",
    "z^{[2]} = hW^{[2]} + b^{[2]}\n",
    "$$\n",
    "\n",
    "$$\n",
    "\\hat{y} = softmax(z^{[2]})\n",
    "$$\n",
    "\n",
    "$$\n",
    "J = loss = \\sum_{i=1}^m CE(y^{(i)}, \\hat{y}^{(i)}) = \\sum_{i=1}^m\\sum_{k=1}^K y^{(i)}_k \\log \\hat{y}^{(i)}_k\n",
    "$$\n"
   ]
  },
  {
   "cell_type": "code",
   "execution_count": 6,
   "id": "fa74607e-1b1b-4e51-8370-071a28725649",
   "metadata": {},
   "outputs": [],
   "source": [
    "def forward_prop(data, labels, params):\n",
    "    \"\"\"\n",
    "    return hidder layer, output(softmax) layer and loss\n",
    "    \"\"\"\n",
    "    W1 = params['W1']\n",
    "    b1 = params['b1']\n",
    "    W2 = params['W2']\n",
    "    b2 = params['b2']\n",
    "\n",
    "    ### YOUR CODE HERE\n",
    "    \n",
    "    # calculate values\n",
    "    z1 = data@W1 + b1\n",
    "    h = sigmoid(z1)\n",
    "    z2 = h@W2 + b2\n",
    "    y = softmax(z2)\n",
    "    \n",
    "    # calculate loss\n",
    "    cost = -(labels*np.log(y)).sum() / y.shape[0]\n",
    "    ### END YOUR CODE\n",
    "    return h, y, cost"
   ]
  },
  {
   "cell_type": "markdown",
   "id": "f131e358-e6d4-48a0-892d-8064292a801d",
   "metadata": {},
   "source": [
    "* back propogation\n",
    "\n",
    "back propogation algorithm can be found on page 19 of the deep learning notes.\n",
    "\n",
    "For the derivations we will assume $m = 1$, so that when the derivatives are implimented we will just be summing $m$ values.\n"
   ]
  },
  {
   "cell_type": "markdown",
   "id": "0ba337ed-4b6c-4504-8b80-196840041758",
   "metadata": {},
   "source": [
    "1. $\\delta^{[2]}$"
   ]
  },
  {
   "cell_type": "markdown",
   "id": "4d0423ac-78d0-45ae-933f-9bcb578dfa4f",
   "metadata": {},
   "source": [
    "$$\n",
    "\\frac{\\partial \\hat{y}_i}{\\partial z^{[2]}_j} = \\frac{\\partial}{\\partial z^{[2]}_j} softmax(z^{[2]})_i\n",
    "$$\n",
    "\n",
    "If $i = j$:\n",
    "\n",
    "$$\n",
    "\\frac{\\partial \\hat{y}_i}{\\partial z^{[2]}_j}  \n",
    "= \n",
    "\\frac{\\partial}{\\partial z^{[2]}_j} \\frac{\\exp (x_i)}{\\sum_{j=1}^k exp (x_j)} \n",
    "$$\n"
   ]
  },
  {
   "cell_type": "markdown",
   "id": "382e04c2-6e9f-432d-a212-c6b8eff34fd6",
   "metadata": {},
   "source": [
    "$$\n",
    "= \\frac{\\exp(x_i)\\sum_{j=1}^k exp (x_j) - \\exp(x_i)\\exp(x_j)}{\\left(\\sum_{j=1}^k exp (x_j)\\right)^2} \n",
    "$$"
   ]
  },
  {
   "cell_type": "markdown",
   "id": "d597e9e1-2daf-427b-b6a1-1ed1258b7b53",
   "metadata": {},
   "source": [
    "$$\n",
    "= \\frac{\\exp(x_i)}{\\sum_{j=1}^k exp (x_j)}\\cdot \\frac{\\sum_{j=1}^k exp (x_j) - \\exp(x_i)}{\\sum_{j=1}^k exp (x_j)}\n",
    "$$"
   ]
  },
  {
   "cell_type": "markdown",
   "id": "6b63d012-86cd-4bbf-9a4d-d3234fca0e25",
   "metadata": {},
   "source": [
    "$$\n",
    "= \\hat{y_i}(1-\\hat{y_i})\n",
    "$$"
   ]
  },
  {
   "cell_type": "markdown",
   "id": "c2b635ec-237f-44ea-b72e-d3112465c749",
   "metadata": {},
   "source": [
    "If $i \\neq j$:\n",
    "\n",
    "$$\n",
    "\\frac{\\partial \\hat{y}_i}{\\partial z^{[2]}_j}\n",
    "=\n",
    "\\frac{0 - \\exp(x_i)\\exp(x_j)}{\\left(\\sum_{j=1}^k exp (x_j)\\right)^2}\n",
    "=\n",
    "\\frac{\\exp(x_i)}{\\sum_{j=1}^k exp (x_j)} \\frac{\\exp(x_j)}{\\sum_{j=1}^k exp (x_j)}\n",
    "=\n",
    "- \\hat{y}_i \\hat{y}_j\n",
    "$$"
   ]
  },
  {
   "cell_type": "markdown",
   "id": "0e425e2b-8980-46f3-b106-2c673c714f26",
   "metadata": {},
   "source": [
    "----"
   ]
  },
  {
   "cell_type": "markdown",
   "id": "35161ca9-1ac6-419e-8c76-72ff4c981dd2",
   "metadata": {},
   "source": [
    "\n",
    "$$\n",
    "\\frac{\\partial J}{\\partial z^{[2]}_i} = - \\frac{\\partial}{\\partial z^{[2]}_i} \\sum_{k=1}^{K} y_k \\log \\hat{y}^{(i)}_k\n",
    "$$\n"
   ]
  },
  {
   "cell_type": "markdown",
   "id": "8991d428-2b78-4a64-b784-c36b8a95ce5e",
   "metadata": {},
   "source": [
    "$$\n",
    "= - \\sum_{k=1}^{K} y_k \\frac{1}{\\hat{y}_k} \\frac{\\partial \\hat{y}_k}{\\partial z^{[2]}_i}\n",
    "$$"
   ]
  },
  {
   "cell_type": "markdown",
   "id": "58545a60-3503-4773-88a4-7b640c02d332",
   "metadata": {},
   "source": [
    "$$\n",
    "= - \\sum_{k=1, k \\neq i}^{K} \\frac{y_k}{\\hat{y}_k} \\cdot (- \\hat{y}_i \\hat{y}_k) - \\frac{y_i}{\\hat{y}_i}\\hat{y_i}(1-\\hat{y_i})\n",
    "$$"
   ]
  },
  {
   "cell_type": "markdown",
   "id": "7ffc6348-65f6-4003-a1fb-34b63aa0de68",
   "metadata": {},
   "source": [
    "$$\n",
    "= \\sum_{k=1, k \\neq i}^{K} y_k\\hat{y}_i + y_i\\hat{y}_i - y_i\n",
    "$$"
   ]
  },
  {
   "cell_type": "markdown",
   "id": "97cbfa1c-4b5d-4052-8b15-0dfe541c64fb",
   "metadata": {},
   "source": [
    "$$\n",
    "= \\sum_{k=1}^{K} y_k\\hat{y}_i  - y_i\n",
    "$$"
   ]
  },
  {
   "cell_type": "markdown",
   "id": "4fe47994-2742-4098-a83a-85324fb535ca",
   "metadata": {},
   "source": [
    "$$\n",
    "= \\hat{y}_i \\sum_{k=1}^{K} y_k  - y_i\n",
    "$$"
   ]
  },
  {
   "cell_type": "markdown",
   "id": "73cfb013-af92-43d5-a796-4e4d3aa4c0f9",
   "metadata": {},
   "source": [
    "$$\n",
    "= \\hat{y}_i  - y_i\n",
    "$$"
   ]
  },
  {
   "cell_type": "markdown",
   "id": "c2221b12-f96e-4ceb-a809-13ead8550fc7",
   "metadata": {},
   "source": [
    "Thus we have shown $\\delta^{[2]} = \\frac{\\partial J}{\\partial z^{[2]}} = \\hat{y} - y$."
   ]
  },
  {
   "cell_type": "markdown",
   "id": "ab3d2231-c0b4-42a9-8cea-262110d317ab",
   "metadata": {},
   "source": [
    "---"
   ]
  },
  {
   "cell_type": "markdown",
   "id": "2424b2d9-4b1c-44ef-a055-e78e9fe2bd87",
   "metadata": {},
   "source": [
    "2. $\\delta^{[1]}$"
   ]
  },
  {
   "cell_type": "markdown",
   "id": "f11415d8-a10d-4697-9b27-8d2362210f11",
   "metadata": {},
   "source": [
    "$$\n",
    "\\delta^{[1]} = \\left(W^{[2]T}\\delta^{[2]}\\right) \\odot \\sigma'(z^{[1]})\n",
    "$$"
   ]
  },
  {
   "cell_type": "markdown",
   "id": "63c86b3c-094e-41a2-81ee-f82b519b4808",
   "metadata": {},
   "source": [
    "$$\n",
    "= \\left(W^{[2]T}\\delta^{[2]}\\right) \\odot \\sigma(z^{[1]}) \\odot \\left(1-\\sigma(z^{[1]})\\right)\n",
    "$$"
   ]
  },
  {
   "cell_type": "markdown",
   "id": "68e1f7d0-1dad-4013-b365-dc87b1d3d642",
   "metadata": {},
   "source": [
    "$$\n",
    "= \\left(W^{[2]T}\\delta^{[2]}\\right) \\odot h \\odot (1-h)\n",
    "$$"
   ]
  },
  {
   "cell_type": "markdown",
   "id": "61f39f1f-3cb2-4450-bda5-5d4074cc57b1",
   "metadata": {},
   "source": [
    "Thus we have shown $\\delta^{[1]} = \\left(W^{[2]T}\\delta^{[2]}\\right) \\odot h \\odot (1-h)$. \n",
    "\n",
    "Note: the lecture notes are for SGD and here we are performing minibatching. This changes the dimensions of $\\delta$ so the way $\\delta^{[1]}$ is calculated is different than what is listed above."
   ]
  },
  {
   "cell_type": "markdown",
   "id": "7ef24ef2-2ee0-435c-8fa9-31f42fd5a62e",
   "metadata": {},
   "source": [
    "3. \n",
    "\n",
    "NOTE: I could do more derivations here\n",
    "\n",
    "show regularization"
   ]
  },
  {
   "cell_type": "code",
   "execution_count": 7,
   "id": "bc1b9491-4b18-45b3-8e17-41ca87546e94",
   "metadata": {
    "tags": []
   },
   "outputs": [],
   "source": [
    "def backward_prop(data, labels, params, regularization):\n",
    "    \"\"\"\n",
    "    return gradient of parameters\n",
    "    \"\"\"\n",
    "    W1 = params['W1']\n",
    "    b1 = params['b1']\n",
    "    W2 = params['W2']\n",
    "    b2 = params['b2']\n",
    "\n",
    "    ### YOUR CODE HERE\n",
    "    \n",
    "    # batch size\n",
    "    B = data.shape[0]\n",
    "    \n",
    "    # foward pass\n",
    "    h, y_hat, J = forward_prop(data, labels, params)\n",
    "    # perform foward step\n",
    "    \n",
    "    # calculate deltas\n",
    "    delta2 = y_hat - labels\n",
    "    delta1 = delta2 @ W2.T * (h*(1-h)) # h(1-h) is correctly broadcasted\n",
    "    \n",
    "    # calculate gradients\n",
    "    gradW1 = data.T @ delta1/B + 2*regularization*W1\n",
    "    gradW2 = h.T @ delta2/B + 2*regularization*W2\n",
    "    gradb1 = delta1.sum(axis = 0)/B #keepdims=True\n",
    "    gradb2 = delta2.sum(axis = 0)/B #keepdims=True\n",
    "    \n",
    "    \n",
    "    ### END YOUR CODE\n",
    "\n",
    "    grad = {}\n",
    "    grad['W1'] = gradW1\n",
    "    grad['W2'] = gradW2\n",
    "    grad['b1'] = gradb1\n",
    "    grad['b2'] = gradb2\n",
    "\n",
    "    return grad"
   ]
  },
  {
   "cell_type": "code",
   "execution_count": 8,
   "id": "37de7d70-0473-4b12-959a-284c9876d0d7",
   "metadata": {},
   "outputs": [],
   "source": [
    "def nn_train(trainData, trainLabels, devData, devLabels, regularization = 0):\n",
    "    (m, n) = trainData.shape\n",
    "    num_hidden = 300\n",
    "    learning_rate = 5\n",
    "    params = {}\n",
    "\n",
    "    ### YOUR CODE HERE\n",
    "    d = n # dimensions of data (784)\n",
    "    K = trainLabels.shape[1] # dimensions of y (10, 0-9) \n",
    "    epochs = 30\n",
    "    B = 1000 # minibatch size\n",
    "    epoch_iters = int(m/B) # number of iterations for each epoch\n",
    "    \n",
    "    # Initialize the weights of the network by sampling values from a standard normal distribution\n",
    "    params['W1'] = np.random.standard_normal((d, num_hidden))\n",
    "    params['W2'] = np.random.standard_normal((num_hidden, K))\n",
    "    \n",
    "    # Initialize the bias/intercept term to 0.\n",
    "    params['b1'] = np.zeros(num_hidden, dtype=float)\n",
    "    params['b2'] = np.zeros(K, dtype=float)\n",
    "\n",
    "    # data frame to store CE loss and accuracy metrics\n",
    "    metrics = pd.DataFrame({\"epoch\":range(epochs), \n",
    "                            \"train_CE\":np.nan, \n",
    "                            \"val_CE\":np.nan, \n",
    "                            \"train_accuracy\":np.nan, \n",
    "                            \"val_accuracy\":np.nan})\n",
    "\n",
    "    \n",
    "    # mini batch with epochs\n",
    "    print(\"epoch \", end = \"\")\n",
    "    for epoch_num in range(epochs):\n",
    "        if epoch_num % 10 == 9:\n",
    "            print(epoch_num)\n",
    "            print(\"epoch \", end = \"\")\n",
    "        else:\n",
    "            print(epoch_num, end = \", \")\n",
    "        \n",
    "        # running minibatching\n",
    "        for batch_num in range(epoch_iters):\n",
    "            dataBatch = trainData[batch_num*B:(batch_num+1)*B]\n",
    "            labelsBatch = trainLabels[batch_num*B:(batch_num+1)*B]\n",
    "            grad = backward_prop(dataBatch, labelsBatch, params, regularization)\n",
    "            # update params\n",
    "            for key in params.keys():\n",
    "                params[key] -= learning_rate * grad[key]\n",
    "        # once epoch is over collect metrics\n",
    "        h, y, cost = forward_prop(trainData, trainLabels, params)\n",
    "        metrics.loc[epoch_num, \"train_CE\"] = cost\n",
    "        metrics.loc[epoch_num, \"train_accuracy\"] = compute_accuracy(y, trainLabels)\n",
    "        h, y, cost = forward_prop(devData, devLabels, params)\n",
    "        metrics.loc[epoch_num, \"val_CE\"] = cost\n",
    "        metrics.loc[epoch_num, \"val_accuracy\"] = compute_accuracy(y, devLabels)\n",
    "    print(\"training complete\")\n",
    "    ### END YOUR CODE\n",
    "\n",
    "    return params, metrics"
   ]
  },
  {
   "cell_type": "code",
   "execution_count": 9,
   "id": "bf6c4ff7-1787-40ad-9bcc-9f5ed236c535",
   "metadata": {},
   "outputs": [],
   "source": [
    "def main():\n",
    "    np.random.seed(100)\n",
    "    trainData, trainLabels = readData(mnistDir+'images_train.csv', mnistDir+'labels_train.csv')\n",
    "    trainLabels = one_hot_labels(trainLabels)\n",
    "    p = np.random.permutation(60000)\n",
    "    trainData = trainData[p,:]\n",
    "    trainLabels = trainLabels[p,:]\n",
    "\n",
    "    devData = trainData[0:10000,:]\n",
    "    devLabels = trainLabels[0:10000,:]\n",
    "    trainData = trainData[10000:,:]\n",
    "    trainLabels = trainLabels[10000:,:]\n",
    "\n",
    "    mean = np.mean(trainData)\n",
    "    std = np.std(trainData)\n",
    "    trainData = (trainData - mean) / std\n",
    "    devData = (devData - mean) / std\n",
    "\n",
    "    testData, testLabels = readData(mnistDir+'images_test.csv', mnistDir+'labels_test.csv')\n",
    "    testLabels = one_hot_labels(testLabels)\n",
    "    testData = (testData - mean) / std\n",
    "\t\n",
    "    params = nn_train(trainData, trainLabels, devData, devLabels)\n",
    "\n",
    "\n",
    "    readyForTesting = False\n",
    "    if readyForTesting:\n",
    "        accuracy = nn_test(testData, testLabels, params)\n",
    "        print(f\"test accuracy: {accuracy.round(3)}\")\n",
    "\t#print ('Test accuracy: %f'%accuracy)\n",
    "\n",
    "#if __name__ == '__main__':\n",
    "#    main()\n"
   ]
  },
  {
   "cell_type": "code",
   "execution_count": 10,
   "id": "23ee8e13-f457-4668-bf74-e408dd8b9096",
   "metadata": {},
   "outputs": [],
   "source": [
    "# main function stuff to input data\n",
    "np.random.seed(100)\n",
    "trainData, trainLabels = readData(mnistDir+'images_train.csv', mnistDir+'labels_train.csv')\n",
    "trainLabels = one_hot_labels(trainLabels)\n",
    "p = np.random.permutation(60000)\n",
    "trainData = trainData[p,:]\n",
    "trainLabels = trainLabels[p,:]\n",
    "\n",
    "devData = trainData[0:10000,:]\n",
    "devLabels = trainLabels[0:10000,:]\n",
    "trainData = trainData[10000:,:]\n",
    "trainLabels = trainLabels[10000:,:]\n",
    "\n",
    "mean = np.mean(trainData)\n",
    "std = np.std(trainData)\n",
    "trainData = (trainData - mean) / std\n",
    "devData = (devData - mean) / std\n",
    "\n",
    "testData, testLabels = readData(mnistDir+'images_test.csv', mnistDir+'labels_test.csv')\n",
    "testLabels = one_hot_labels(testLabels)\n",
    "testData = (testData - mean) / std"
   ]
  },
  {
   "cell_type": "code",
   "execution_count": 11,
   "id": "4b32a365-5012-4b59-96d8-c1f8d8010431",
   "metadata": {},
   "outputs": [
    {
     "name": "stdout",
     "output_type": "stream",
     "text": [
      "epoch 0, 1, 2, 3, 4, 5, 6, 7, 8, 9\n",
      "epoch 10, 11, 12, 13, 14, 15, 16, 17, 18, 19\n",
      "epoch 20, 21, 22, 23, 24, 25, 26, 27, 28, 29\n",
      "epoch training complete\n"
     ]
    }
   ],
   "source": [
    "# calcualte parameters, no regularization\n",
    "params0, metrics0 = nn_train(trainData, trainLabels, devData, devLabels, regularization = 0)"
   ]
  },
  {
   "cell_type": "code",
   "execution_count": 12,
   "id": "0cf20ed1-8c22-4f2b-8f37-a725a914e61c",
   "metadata": {},
   "outputs": [
    {
     "data": {
      "text/plain": [
       "<matplotlib.legend.Legend at 0x7fd200b27c40>"
      ]
     },
     "execution_count": 12,
     "metadata": {},
     "output_type": "execute_result"
    },
    {
     "data": {
      "image/png": "[encoded data removed]",
      "text/plain": [
       "<Figure size 864x360 with 2 Axes>"
      ]
     },
     "metadata": {
      "needs_background": "light"
     },
     "output_type": "display_data"
    }
   ],
   "source": [
    "df_CE = metrics0.rename(columns={\"train_CE\":\"train\",\"val_CE\":\"validate\"}).melt(id_vars=['epoch'], value_vars=[\"train\", \"validate\"])\n",
    "df_accuracy = metrics0.rename(columns={\"train_accuracy\":\"train\",\"val_accuracy\":\"validate\"}).melt(id_vars=['epoch'], value_vars=[\"train\", \"validate\"])\n",
    "\n",
    "fig, axes = plt.subplots(1, 2, figsize=(12, 5))\n",
    "\n",
    "sns.lineplot(ax = axes[0], x = \"epoch\",y = \"value\", hue = \"variable\", data = df_CE)\n",
    "axes[0].grid(True)\n",
    "axes[0].set_xlabel(\"epoch\")\n",
    "axes[0].set_ylabel(\"cross entropy\")\n",
    "axes[0].set_title(\"Cross Entropy Loss \")\n",
    "axes[0].legend(title = \"data set\")\n",
    "\n",
    "sns.lineplot(ax = axes[1], x = \"epoch\",y = \"value\", hue = \"variable\", data = df_accuracy)\n",
    "axes[1].grid(True)\n",
    "axes[1].set_xlabel(\"epoch\")\n",
    "axes[1].set_ylabel(\"accuracy\")\n",
    "axes[1].set_title(\"Accuracy\")\n",
    "axes[1].legend(title = \"data set\")"
   ]
  },
  {
   "cell_type": "code",
   "execution_count": null,
   "id": "e954f71b-7893-4665-92f8-6ab2ac3c98ba",
   "metadata": {},
   "outputs": [],
   "source": []
  },
  {
   "cell_type": "markdown",
   "id": "35aeba7e-9402-4bd6-86c3-47a800019f40",
   "metadata": {},
   "source": [
    "## Part B"
   ]
  },
  {
   "cell_type": "code",
   "execution_count": 13,
   "id": "72e6cbd6-c1c8-4772-9447-023919a49731",
   "metadata": {},
   "outputs": [
    {
     "name": "stdout",
     "output_type": "stream",
     "text": [
      "epoch 0, 1, 2, 3, 4, 5, 6, 7, 8, 9\n",
      "epoch 10, 11, 12, 13, 14, 15, 16, 17, 18, 19\n",
      "epoch 20, 21, 22, 23, 24, 25, 26, 27, 28, 29\n",
      "epoch training complete\n"
     ]
    }
   ],
   "source": [
    "# calculate parameters with regularization\n",
    "params1, metrics1 = nn_train(trainData, trainLabels, devData, devLabels, regularization = 0.0001)"
   ]
  },
  {
   "cell_type": "code",
   "execution_count": 14,
   "id": "9a9c00df-e1e7-4eff-8bd5-1a8ed6c152af",
   "metadata": {},
   "outputs": [
    {
     "data": {
      "text/plain": [
       "<matplotlib.legend.Legend at 0x7fd202251520>"
      ]
     },
     "execution_count": 14,
     "metadata": {},
     "output_type": "execute_result"
    },
    {
     "data": {
      "image/png": "[encoded data removed]",
      "text/plain": [
       "<Figure size 864x360 with 2 Axes>"
      ]
     },
     "metadata": {
      "needs_background": "light"
     },
     "output_type": "display_data"
    }
   ],
   "source": [
    "df_CE = metrics1.rename(columns={\"train_CE\":\"train\",\"val_CE\":\"validate\"}).melt(id_vars=['epoch'], value_vars=[\"train\", \"validate\"])\n",
    "df_accuracy = metrics1.rename(columns={\"train_accuracy\":\"train\",\"val_accuracy\":\"validate\"}).melt(id_vars=['epoch'], value_vars=[\"train\", \"validate\"])\n",
    "\n",
    "fig, axes = plt.subplots(1, 2, figsize=(12, 5))\n",
    "\n",
    "sns.lineplot(ax = axes[0], x = \"epoch\",y = \"value\", hue = \"variable\", data = df_CE)\n",
    "axes[0].grid(True)\n",
    "axes[0].set_xlabel(\"epoch\")\n",
    "axes[0].set_ylabel(\"cross entropy\")\n",
    "axes[0].set_title(\"Cross Entropy Loss \")\n",
    "axes[0].legend(title = \"data\")\n",
    "\n",
    "sns.lineplot(ax = axes[1], x = \"epoch\",y = \"value\", hue = \"variable\", data = df_accuracy)\n",
    "axes[1].grid(True)\n",
    "axes[1].set_xlabel(\"epoch\")\n",
    "axes[1].set_ylabel(\"accuracy\")\n",
    "axes[1].set_title(\"Accuracy\")\n",
    "axes[1].legend(title = \"data\")"
   ]
  },
  {
   "cell_type": "markdown",
   "id": "28d3e209-e4ec-4fce-ab8d-d76864220f0f",
   "metadata": {},
   "source": [
    "## Part C"
   ]
  },
  {
   "cell_type": "code",
   "execution_count": 15,
   "id": "4cb59552-0dfc-49d8-9474-147eeca846af",
   "metadata": {},
   "outputs": [
    {
     "name": "stdout",
     "output_type": "stream",
     "text": [
      "The test accuracy without regularization is 0.929\n"
     ]
    }
   ],
   "source": [
    "accuracy0 = nn_test(testData, testLabels, params0)\n",
    "print(f\"The test accuracy without regularization is {accuracy0.round(3)}\")"
   ]
  },
  {
   "cell_type": "code",
   "execution_count": 16,
   "id": "af05f76d-0582-4df2-890a-c00254ea050d",
   "metadata": {},
   "outputs": [
    {
     "name": "stdout",
     "output_type": "stream",
     "text": [
      "The test accuracy with regularization is 0.968\n"
     ]
    }
   ],
   "source": [
    "accuracy1 = nn_test(testData, testLabels, params1)\n",
    "print(f\"The test accuracy with regularization is {accuracy1.round(3)}\")"
   ]
  },
  {
   "cell_type": "markdown",
   "id": "dd34361d-ce87-4ca2-b852-b7e98b5e6fb6",
   "metadata": {},
   "source": [
    "# Question 2"
   ]
  },
  {
   "cell_type": "markdown",
   "id": "b3af8ff9-c29a-4448-abcc-ce020450b7a5",
   "metadata": {},
   "source": [
    "Assume $\\theta^*$ is the set of parameters obtained by maximizing an EM algorithm. We wts that $\\nabla_\\theta \\ell(\\theta^*) = 0$."
   ]
  },
  {
   "cell_type": "markdown",
   "id": "6f776f1b-0069-475d-8bd2-b3f67ce25e30",
   "metadata": {},
   "source": [
    "Let $Q_i^*(z) = p(z^{(i)} \\vert x^{(i)}; \\theta^*)$. "
   ]
  },
  {
   "cell_type": "markdown",
   "id": "dda741b5-47dc-40a4-a380-3acc36854942",
   "metadata": {},
   "source": [
    "Then we have \n",
    "\n",
    "$$\n",
    "\\sum_{i=1}^{m} ELBO(x^{(i)}, Q_i^*, \\theta) \n",
    "= \n",
    "\\sum_{i=1}^{m}\\sum_{z^{(i)}} Q_i^* (z^{(i)}) \\log \\frac{p(x^{(i)}, z^{(i)}; \\theta)}{Q_i^* (z^{(i)})} \n",
    "= \n",
    "\\sum_{i=1}^{m}\\sum_{z^{(i)}} Q_i^* (z^{(i)}) \\left(\\log p(x^{(i)}, z^{(i)}; \\theta) - \\log Q_i^* (z^{(i)})\\right)\n",
    "$$"
   ]
  },
  {
   "cell_type": "markdown",
   "id": "f73542b2-7ff6-462c-bda5-2e0d69cca1a4",
   "metadata": {},
   "source": [
    "Taking the gradient and setting $\\theta$ to $\\theta^*$ we get\n",
    "\n",
    "$$\n",
    "0 \n",
    "=\n",
    "\\nabla_\\theta \\sum_{i=1}^{m} ELBO(x^{(i)}, Q_i^*, \\theta) \\vert_{\\theta = \\theta^*}\n",
    "=\n",
    "\\nabla_\\theta \\left(\\sum_{i=1}^{m}\\sum_{z^{(i)}} Q_i^* (z^{(i)}) \\left(\\log p(x^{(i)}, z^{(i)}; \\theta) - \\log Q_i^* (z^{(i)})\\right)\\right)\\vert_{\\theta = \\theta^*}\n",
    "$$"
   ]
  },
  {
   "cell_type": "markdown",
   "id": "33352d45-d498-4dae-a761-265f534b5c2c",
   "metadata": {},
   "source": [
    "$$\n",
    "= \\sum_{i=1}^{m} \\sum_{z^{(i)}} Q_i^*(z^{(i)}) \\frac{\\nabla_\\theta p(x^{(i)}, z^{(i)}; \\theta) \\vert_{\\theta = \\theta^*}}{p(x^{(i)}, z^{(i)}; \\theta^*)}\n",
    "$$"
   ]
  },
  {
   "cell_type": "markdown",
   "id": "afcb66ae-fb72-46b5-93bc-47c184f1912d",
   "metadata": {},
   "source": [
    "$$\n",
    "= \\sum_{i=1}^{m} \\sum_{z^{(i)}} \\frac{p(x^{(i)}, z^{(i)}; \\theta^*)}{p(x^{(i)}; \\theta^*)} \\frac{\\nabla_\\theta p(x^{(i)}, z^{(i)}; \\theta) \\vert_{\\theta = \\theta^*}}{p(x^{(i)}, z^{(i)}; \\theta^*)}\n",
    "$$"
   ]
  },
  {
   "cell_type": "markdown",
   "id": "970dc7dd-1363-443e-8bd8-94f0ebf4567d",
   "metadata": {},
   "source": [
    "$$\n",
    "= \\sum_{i=1}^{m} \\sum_{z^{(i)}} \\frac{\\nabla_\\theta p(x^{(i)}, z^{(i)}; \\theta) \\vert_{\\theta = \\theta^*}}{p(x^{(i)}; \\theta^*)}\n",
    "$$"
   ]
  },
  {
   "cell_type": "markdown",
   "id": "2bd7d422-66da-4ada-b622-d8a68117aacd",
   "metadata": {},
   "source": [
    "$$\n",
    "= \\sum_{i=1}^{m} \\frac{1}{p(x^{(i)}; \\theta^*)} \\nabla_\\theta \\sum_{z^{(i)}}  p(x^{(i)}, z^{(i)}; \\theta) \\vert_{\\theta = \\theta^*}\n",
    "$$"
   ]
  },
  {
   "cell_type": "markdown",
   "id": "04d9659a-672b-4ff4-865e-99d94b03e717",
   "metadata": {},
   "source": [
    "$$\n",
    "= \\sum_{i=1}^{m} \\frac{\\nabla_\\theta p(x^{(i)}; \\theta) \\vert_{\\theta = \\theta^*}}{p(x^{(i)}; \\theta^*)}\n",
    "$$"
   ]
  },
  {
   "cell_type": "markdown",
   "id": "61b354b4-8ccf-4a37-b31b-11c791380af9",
   "metadata": {},
   "source": [
    "$$\n",
    "= \\sum_{i=1}^{m} \\nabla_\\theta (\\log p(x^{(i)}; \\theta))\\vert_{\\theta = \\theta^*}\n",
    "$$"
   ]
  },
  {
   "cell_type": "markdown",
   "id": "82f4b565-a813-4b9f-a5c8-99303e4fd9a8",
   "metadata": {},
   "source": [
    "$$\n",
    "= \\nabla_\\theta \\sum_{i=1}^{m} (\\log p(x^{(i)}; \\theta))\\vert_{\\theta = \\theta^*}\n",
    "$$"
   ]
  },
  {
   "cell_type": "markdown",
   "id": "f03654b8-f7b2-4be6-9cd9-49bb592c94a4",
   "metadata": {},
   "source": [
    "$$\n",
    "= \\nabla_\\theta \\ell(\\theta^*)\n",
    "$$"
   ]
  },
  {
   "cell_type": "markdown",
   "id": "f48f3d78-85f0-4a49-adfc-ce256a85093e",
   "metadata": {},
   "source": [
    "Therefore we have shown $\\nabla_\\theta \\ell(\\theta^*) = 0$ thus $\\theta^*$ maximizes the likelihood, which is what we wanted to show. "
   ]
  },
  {
   "cell_type": "markdown",
   "id": "7880d5ab-83f5-4e37-80f3-16d5689931dc",
   "metadata": {},
   "source": [
    "# Question 3"
   ]
  },
  {
   "cell_type": "markdown",
   "id": "7d815c56-2af0-4de8-92b4-f27b2298acca",
   "metadata": {},
   "source": [
    "$$\n",
    "f_u(x) = \\arg \\min_{\\nu \\in \\mathcal{V}} \\Vert x - \\nu \\Vert^2 = (u^Tx) u\n",
    "$$"
   ]
  },
  {
   "cell_type": "markdown",
   "id": "241af213-967a-47b5-948c-ddd84f7470b0",
   "metadata": {},
   "source": [
    "$$\n",
    "u = \\arg \\min_{u:u^Tu=1} \\sum_{i=1}^{m} \\Vert x^{(i)}-f_{u}(x^{(i)}) \\Vert^2_2\n",
    "$$"
   ]
  },
  {
   "cell_type": "markdown",
   "id": "e583510a-9574-4bb9-a572-93eb4acf7365",
   "metadata": {},
   "source": [
    "$$\n",
    "= \\arg \\min_{u:u^Tu=1} \\sum_{i=1}^{m} \\Vert x^{(i)}- u^Tx^{(i)} u \\Vert^2_2\n",
    "$$"
   ]
  },
  {
   "cell_type": "markdown",
   "id": "416dc315-3df8-4cd0-962b-360f54ccc8f1",
   "metadata": {},
   "source": [
    "$$\n",
    "= \\arg \\min_{u:u^Tu=1} \\sum_{i=1}^{m}  \\left(x^{(i)}- u^Tx^{(i)}u\\right)^T \\left(x^{(i)}- u^Tx^{(i)}u\\right)\n",
    "$$"
   ]
  },
  {
   "cell_type": "markdown",
   "id": "6f4233dd-3b57-4658-806f-d5506dce8df2",
   "metadata": {},
   "source": [
    "$$\n",
    "= \\arg \\min_{u:u^Tu=1} \\sum_{i=1}^{m}  \\left(x^{(i)T}- u^Tx^{(i)}u^T\\right) \\left(x^{(i)}- u^Tx^{(i)}u\\right)\n",
    "$$"
   ]
  },
  {
   "cell_type": "markdown",
   "id": "a8024b53-00df-4332-ad4f-9bc1c07ba62c",
   "metadata": {},
   "source": [
    "$$\n",
    "= \\arg \\min_{u:u^Tu=1} \\sum_{i=1}^{m}  \\left(x^{(i)T}x^{(i)} - x^{(i)T}u^Tx^{(i)}u - u^Tx^{(i)}u^Tx^{(i)} + u^Tx^{(i)}u^T \\cdot u^Tx^{(i)}u \\right)\n",
    "$$"
   ]
  },
  {
   "cell_type": "markdown",
   "id": "a3f9a23e-80c7-45f9-83c9-c68785eac425",
   "metadata": {},
   "source": [
    "$$\n",
    "= \\arg \\min_{u:u^Tu=1} \\sum_{i=1}^{m}  \\left(x^{(i)T}x^{(i)} - u^Tx^{(i)}x^{(i)T}u - u^Tx^{(i)}x^{(i)T}u^T + u^Tx^{(i)} x^{(i)T}u u^Tu \\right)\n",
    "$$"
   ]
  },
  {
   "cell_type": "markdown",
   "id": "a1a8ce64-2b27-4ef6-9134-27f25d8cd8d1",
   "metadata": {},
   "source": [
    "$$\n",
    "= \\arg \\min_{u:u^Tu=1} \\sum_{i=1}^{m}  \\left(x^{(i)T}x^{(i)} - 2u^Tx^{(i)}x^{(i)T}u + u^Tx^{(i)}x^{(i)T}u \\right)\n",
    "$$"
   ]
  },
  {
   "cell_type": "markdown",
   "id": "47ba866e-e1fb-48fc-8760-f3478a5c25ee",
   "metadata": {},
   "source": [
    "$$\n",
    "= \\arg \\min_{u:u^Tu=1} \\sum_{i=1}^{m}  \\left(x^{(i)T}x^{(i)} - u^Tx^{(i)}x^{(i)T}u\\right)\n",
    "$$"
   ]
  },
  {
   "cell_type": "markdown",
   "id": "dc115a97-a8d8-46cf-8f2c-04b636440e2f",
   "metadata": {},
   "source": [
    "$$\n",
    "= \\arg \\min_{u:u^Tu=1} \\sum_{i=1}^{m} - u^Tx^{(i)}x^{(i)T}u\n",
    "$$"
   ]
  },
  {
   "cell_type": "markdown",
   "id": "06631528-f1c2-4bb8-9298-93d3c4846a25",
   "metadata": {},
   "source": [
    "$$\n",
    "= \\arg \\max_{u:u^Tu=1} u^T \\left(\\sum_{i=1}^{m} x^{(i)}x^{(i)T}\\right)u\n",
    "$$"
   ]
  },
  {
   "cell_type": "markdown",
   "id": "e19e42bb-744c-47dc-8f47-42efeca396d2",
   "metadata": {},
   "source": [
    "$$\n",
    "= \\arg \\max_{u:u^Tu=1} u^T \\left(\\frac{1}{m} \\sum_{i=1}^{m} x^{(i)}x^{(i)T}\\right)u\n",
    "$$"
   ]
  },
  {
   "cell_type": "markdown",
   "id": "b887416b-062b-4552-a6c1-e0a9a7ca1f73",
   "metadata": {},
   "source": [
    "Which is the same as obective as PCA. Therefore we have shown that $u$ minimizes the mean squared error between projected points and origional points corresponds to the first principal component for the data, which is what we wanted to show."
   ]
  },
  {
   "cell_type": "markdown",
   "id": "2cbe8d21-9265-4924-9e55-5f6fcdc4e535",
   "metadata": {},
   "source": [
    "# Question 4"
   ]
  },
  {
   "cell_type": "code",
   "execution_count": 17,
   "id": "0c452e2f-4bcc-4525-8266-cdfcc58fac2c",
   "metadata": {},
   "outputs": [],
   "source": [
    "import sounddevice as sd\n",
    "import numpy as np\n",
    "\n",
    "Fs = 11025\n",
    "\n",
    "def normalize(dat):\n",
    "    return 0.99 * dat / np.max(np.abs(dat))\n",
    "\n",
    "def load_data():\n",
    "    mix = np.loadtxt(dataDir+'mix.dat')\n",
    "    return mix\n",
    "\n",
    "def play(vec):\n",
    "    sd.play(vec, Fs, blocking=True)"
   ]
  },
  {
   "cell_type": "code",
   "execution_count": 18,
   "id": "c9489852-ccbf-4938-837b-b7bf50178b1b",
   "metadata": {},
   "outputs": [],
   "source": [
    "def unmixer(X):\n",
    "    M, N = X.shape\n",
    "    W = np.eye(N)\n",
    "\n",
    "    anneal = [0.1, 0.1, 0.1, 0.05, 0.05, 0.05, 0.02, 0.02, 0.01, 0.01,\n",
    "              0.005, 0.005, 0.002, 0.002, 0.001, 0.001]\n",
    "    print('Separating tracks ...')\n",
    "    ######## Your code here ##########\n",
    "    \n",
    "    np.random.seed(1234)\n",
    "    \n",
    "    # will do SGD\n",
    "    for alpha in anneal:\n",
    "        permutation = np.random.permutation(M) # (remark on lecture notes 11 pg 6)\n",
    "        for p in permutation:\n",
    "            W += alpha * (np.outer(1 - 2 * sigmoid(W @ X[p]), X[p]) + np.linalg.inv(W.T))\n",
    "    ###################################\n",
    "    return W"
   ]
  },
  {
   "cell_type": "code",
   "execution_count": 19,
   "id": "41bb0641-2655-4fe8-b827-5015c499971f",
   "metadata": {},
   "outputs": [],
   "source": [
    "def unmix(X, W):\n",
    "    S = np.zeros(X.shape)\n",
    "\n",
    "    ######### Your code here ##########\n",
    "    S = X @ W.T\n",
    "    ##################################\n",
    "    return S"
   ]
  },
  {
   "cell_type": "code",
   "execution_count": 20,
   "id": "0f953f4e-60b0-4974-8446-5d3535745ade",
   "metadata": {},
   "outputs": [
    {
     "name": "stdout",
     "output_type": "stream",
     "text": [
      "Playing mixed track 0\n",
      "Playing mixed track 1\n",
      "Playing mixed track 2\n",
      "Playing mixed track 3\n",
      "Playing mixed track 4\n",
      "Separating tracks ...\n",
      "Playing separated track 0\n",
      "Playing separated track 1\n",
      "Playing separated track 2\n",
      "Playing separated track 3\n",
      "Playing separated track 4\n"
     ]
    }
   ],
   "source": [
    "def main():\n",
    "    X = normalize(load_data())\n",
    "\n",
    "    for i in range(X.shape[1]):\n",
    "        print('Playing mixed track %d' % i)\n",
    "        play(X[:, i])\n",
    "\n",
    "    W = unmixer(X)\n",
    "    S = normalize(unmix(X, W))\n",
    "\n",
    "    for i in range(S.shape[1]):\n",
    "        print('Playing separated track %d' % i)\n",
    "        play(S[:, i])\n",
    "\n",
    "if __name__ == '__main__':\n",
    "    main()"
   ]
  },
  {
   "cell_type": "markdown",
   "id": "a7120932-f322-43ab-8642-7acb9efd4a2f",
   "metadata": {},
   "source": [
    "The sounds are partitioned. They all are distinguishable but sound 3 has some noticable error."
   ]
  },
  {
   "cell_type": "markdown",
   "id": "2159b920-fa0e-4c29-9095-59e396094eb8",
   "metadata": {},
   "source": [
    "# Question 5"
   ]
  },
  {
   "cell_type": "markdown",
   "id": "38e1970c-9742-4508-bc59-0a4d0f52bb6a",
   "metadata": {},
   "source": [
    "## Part A"
   ]
  },
  {
   "cell_type": "markdown",
   "id": "6272a6c5-ea17-4499-bf0b-24655cc97657",
   "metadata": {},
   "source": [
    "$$\n",
    "V' = B(V)\n",
    "$$"
   ]
  },
  {
   "cell_type": "markdown",
   "id": "6e1a275d-e05d-46d3-9a69-e9bd39a4f08a",
   "metadata": {},
   "source": [
    "$$\n",
    "\\Vert B(V_1) - B(V_2) \\Vert_\\infty = \\Vert V_1' - V_2' \\Vert_\\infty = \\max_{s \\in S} \\vert V_1'(s) - V_2'(s) \\vert\n",
    "$$"
   ]
  },
  {
   "cell_type": "markdown",
   "id": "a8182d00-a5a2-437e-bc53-5013acce6df7",
   "metadata": {},
   "source": [
    "Let $\\max_{s \\in S} \\vert V_1'(s) - V_2'(s) \\vert = \\vert V_1'(s^*) - V_2'(s^*) \\vert$. WLOG assume $\\vert V_1'(s^*) - V_2'(s^*) \\vert = V_1'(s^*) - V_2'(s^*)$. Thus we get"
   ]
  },
  {
   "cell_type": "markdown",
   "id": "573860c0-09df-4df0-af19-ae96109b7dcb",
   "metadata": {},
   "source": [
    "$$\n",
    "V_1'(s^*) - V_2'(s^*) \n",
    "= \n",
    "R(s^*) + \\gamma \\max_{a \\in A} \\sum_{s' \\in S} P_{s a}(s') V_1(s') \n",
    "-\n",
    "\\left(\n",
    "R(s^*) + \\gamma \\max_{a \\in A} \\sum_{s' \\in S} P_{s a}(s') V_2(s')\n",
    "\\right)\n",
    "$$"
   ]
  },
  {
   "cell_type": "markdown",
   "id": "ad732e85-9878-4cab-bebd-baf4e624aec6",
   "metadata": {},
   "source": [
    "$$\n",
    "= \\gamma \\left(\n",
    "\\max_{a \\in A} \\sum_{s' \\in S} P_{s a}(s') V_1(s') \n",
    "-\n",
    "\\max_{a \\in A} \\sum_{s' \\in S} P_{s a}(s') V_2(s')\n",
    "\\right)\n",
    "$$"
   ]
  },
  {
   "cell_type": "markdown",
   "id": "d32509bc-ed3d-430c-8fb6-0231991016c8",
   "metadata": {},
   "source": [
    "Define $a^*_1, a^*_2$ such that\n",
    "\n",
    "$$\n",
    "\\max_{a \\in A} \\sum_{s' \\in S} P_{s a}(s') V_1(s') = \\sum_{s' \\in S} P_{s a^*_1}(s') V_1(s')\n",
    "$$\n",
    "\n",
    "$$\n",
    "\\max_{a \\in A} \\sum_{s' \\in S} P_{s a}(s') V_2(s') = \\sum_{s' \\in S} P_{s a^*_2}(s') V_2(s')\n",
    "$$"
   ]
  },
  {
   "cell_type": "markdown",
   "id": "5416f699-d6ff-4432-8dfc-a10164e4d23d",
   "metadata": {},
   "source": [
    "By construction we get\n",
    "\n",
    "$$\n",
    "\\sum_{s' \\in S} P_{s a^*_2}(s') V_2(s') \\ge \\sum_{s' \\in S} P_{s a^*_1}(s') V_2(s')\n",
    "$$"
   ]
  },
  {
   "cell_type": "markdown",
   "id": "c2312281-4dd4-4b35-9a63-4a7c59c29438",
   "metadata": {},
   "source": [
    "Thus\n",
    "\n",
    "$$\n",
    "\\gamma \\left(\n",
    "\\max_{a \\in A} \\sum_{s' \\in S} P_{s a}(s') V_1(s') \n",
    "-\n",
    "\\max_{a \\in A} \\sum_{s' \\in S} P_{s a}(s') V_2(s')\n",
    "\\right)\n",
    "=\n",
    "\\gamma \\left(\n",
    "\\sum_{s' \\in S} P_{s a^*_1}(s') V_1(s') \n",
    "-\n",
    "\\sum_{s' \\in S} P_{s a^*_2}(s') V_2(s')\n",
    "\\right)\n",
    "$$"
   ]
  },
  {
   "cell_type": "markdown",
   "id": "cf0e43ab-3d7b-432d-b4fa-5fa61bd5678d",
   "metadata": {},
   "source": [
    "$$\n",
    "\\le \\gamma \\left(\n",
    "\\sum_{s' \\in S} P_{s a^*_1}(s') V_1(s') \n",
    "-\n",
    "\\sum_{s' \\in S} P_{s a^*_1}(s') V_2(s')\n",
    "\\right)\n",
    "$$"
   ]
  },
  {
   "cell_type": "markdown",
   "id": "0f53bfaf-4ede-4e55-8b1c-ce0f5578fd83",
   "metadata": {},
   "source": [
    "$$\n",
    "= \\gamma \\left(\n",
    "\\sum_{s' \\in S} P_{s a^*_1}(s') \\left(V_1(s')-V_2(s')\\right)\n",
    "\\right)\n",
    "$$"
   ]
  },
  {
   "cell_type": "markdown",
   "id": "a931a597-30b7-42ab-8c87-150e728dccf9",
   "metadata": {},
   "source": [
    "Thus there exists $s \\in S$ such that\n",
    "\n",
    "$$\n",
    "\\gamma \\left(\n",
    "\\sum_{s' \\in S} P_{s a^*_1}(s') \\left(V_1(s')-V_2(s')\\right)\n",
    "\\right)\n",
    "\\le \n",
    "\\gamma \\left(\n",
    "\\sum_{s' \\in S} P_{s a^*_1}(s') \\left(V_1(s)-V_2(s)\\right)\n",
    "\\right)\n",
    "$$"
   ]
  },
  {
   "cell_type": "markdown",
   "id": "a9c59472-3a29-42df-8509-6559a5060c7e",
   "metadata": {},
   "source": [
    "$$\n",
    "=\n",
    "\\gamma \\left(V_1(s)-V_2(s)\\right)\n",
    "$$"
   ]
  },
  {
   "cell_type": "markdown",
   "id": "a79f4db7-86c0-4a76-9a29-7f39446acab7",
   "metadata": {},
   "source": [
    "$$\n",
    "\\le \\gamma \\max_{s' \\in S} \\vert V_1(s') - V_2(s') \\vert\n",
    "$$"
   ]
  },
  {
   "cell_type": "markdown",
   "id": "01f297e4-1220-4dbe-a37c-f788348eb7f6",
   "metadata": {},
   "source": [
    "$$\n",
    "= \\gamma \\Vert V_1 - V_2 \\Vert_\\infty\n",
    "$$"
   ]
  },
  {
   "cell_type": "markdown",
   "id": "36b8ab45-fc6f-42e7-b75e-5c90afbb9372",
   "metadata": {},
   "source": [
    "Thus we have shown that \n",
    "\n",
    "$$\n",
    "\\Vert B(V_1) - B(V_2) \\Vert_\\infty \\le \\gamma \\Vert V_1 - V_2 \\Vert_\\infty\n",
    "$$\n",
    "\n",
    "which is what we wanted to show."
   ]
  },
  {
   "cell_type": "markdown",
   "id": "594b96e4-3feb-470f-ac36-46bf34ead497",
   "metadata": {},
   "source": [
    "## Part B"
   ]
  },
  {
   "cell_type": "markdown",
   "id": "53460d07-e0b9-4ca2-8c4c-1cdd348a20a4",
   "metadata": {},
   "source": [
    "Assume $V_1, V_2$ are fixed points, thus\n",
    "\n",
    "$$\n",
    "\\Vert V_1 - V_2 \\Vert_\\infty \n",
    "= \\Vert B(V_1) - B(V_2) \\Vert_\\infty \n",
    "\\le \\gamma \\Vert V_1 - V_2 \\Vert_\\infty\n",
    "$$"
   ]
  },
  {
   "cell_type": "markdown",
   "id": "691a7635-84e9-4dd6-8d48-2f9bcf05bd46",
   "metadata": {},
   "source": [
    "$$\n",
    "\\therefore \n",
    "\\Vert V_1 - V_2 \\Vert_\\infty  \\le \\gamma \\Vert V_1 - V_2 \\Vert_\\infty\n",
    "$$"
   ]
  },
  {
   "cell_type": "markdown",
   "id": "1262e96a-cc68-41c4-9643-32f72a3076f8",
   "metadata": {},
   "source": [
    "Because $\\gamma \\in [0,1)$ this only holds true when $\\Vert V_1 - V_2 \\Vert_\\infty  = 0$, thus $V_1 = V_2$, which implies there is only one fixed point. Which is what we wanted to show."
   ]
  },
  {
   "cell_type": "markdown",
   "id": "0c2fb386-68f0-4e2c-b01a-699c1037146e",
   "metadata": {},
   "source": [
    "# Question 6"
   ]
  },
  {
   "cell_type": "code",
   "execution_count": 21,
   "id": "dc5a624f-d688-428c-8ced-7ddc64f3218b",
   "metadata": {},
   "outputs": [],
   "source": [
    "np.random.seed(229)"
   ]
  },
  {
   "cell_type": "code",
   "execution_count": 22,
   "id": "7142ef3d-7b2b-48bd-af83-7c0e9c7ed858",
   "metadata": {},
   "outputs": [
    {
     "name": "stdout",
     "output_type": "stream",
     "text": [
      "[INFO] Failure number 1\n",
      "[INFO] Failure number 2\n",
      "[INFO] Failure number 3\n",
      "[INFO] Failure number 4\n",
      "[INFO] Failure number 5\n",
      "[INFO] Failure number 6\n",
      "[INFO] Failure number 7\n",
      "[INFO] Failure number 8\n",
      "[INFO] Failure number 9\n",
      "[INFO] Failure number 10\n",
      "[INFO] Failure number 11\n",
      "[INFO] Failure number 12\n",
      "[INFO] Failure number 13\n",
      "[INFO] Failure number 14\n",
      "[INFO] Failure number 15\n",
      "[INFO] Failure number 16\n",
      "[INFO] Failure number 17\n",
      "[INFO] Failure number 18\n",
      "[INFO] Failure number 19\n",
      "[INFO] Failure number 20\n",
      "[INFO] Failure number 21\n",
      "[INFO] Failure number 22\n",
      "[INFO] Failure number 23\n",
      "[INFO] Failure number 24\n",
      "[INFO] Failure number 25\n",
      "[INFO] Failure number 26\n",
      "[INFO] Failure number 27\n",
      "[INFO] Failure number 28\n",
      "[INFO] Failure number 29\n",
      "[INFO] Failure number 30\n",
      "[INFO] Failure number 31\n",
      "[INFO] Failure number 32\n",
      "[INFO] Failure number 33\n",
      "[INFO] Failure number 34\n",
      "[INFO] Failure number 35\n",
      "[INFO] Failure number 36\n",
      "[INFO] Failure number 37\n",
      "[INFO] Failure number 38\n",
      "[INFO] Failure number 39\n",
      "[INFO] Failure number 40\n",
      "[INFO] Failure number 41\n",
      "[INFO] Failure number 42\n",
      "[INFO] Failure number 43\n",
      "[INFO] Failure number 44\n",
      "[INFO] Failure number 45\n",
      "[INFO] Failure number 46\n",
      "[INFO] Failure number 47\n",
      "[INFO] Failure number 48\n",
      "[INFO] Failure number 49\n",
      "[INFO] Failure number 50\n",
      "[INFO] Failure number 51\n",
      "[INFO] Failure number 52\n",
      "[INFO] Failure number 53\n",
      "[INFO] Failure number 54\n",
      "[INFO] Failure number 55\n",
      "[INFO] Failure number 56\n",
      "[INFO] Failure number 57\n",
      "[INFO] Failure number 58\n",
      "[INFO] Failure number 59\n",
      "[INFO] Failure number 60\n",
      "[INFO] Failure number 61\n",
      "[INFO] Failure number 62\n",
      "[INFO] Failure number 63\n",
      "[INFO] Failure number 64\n",
      "[INFO] Failure number 65\n",
      "[INFO] Failure number 66\n",
      "[INFO] Failure number 67\n",
      "[INFO] Failure number 68\n",
      "[INFO] Failure number 69\n",
      "[INFO] Failure number 70\n",
      "[INFO] Failure number 71\n",
      "[INFO] Failure number 72\n",
      "[INFO] Failure number 73\n",
      "[INFO] Failure number 74\n",
      "[INFO] Failure number 75\n",
      "[INFO] Failure number 76\n",
      "[INFO] Failure number 77\n",
      "[INFO] Failure number 78\n",
      "[INFO] Failure number 79\n",
      "[INFO] Failure number 80\n",
      "[INFO] Failure number 81\n",
      "[INFO] Failure number 82\n",
      "[INFO] Failure number 83\n",
      "[INFO] Failure number 84\n",
      "[INFO] Failure number 85\n",
      "[INFO] Failure number 86\n",
      "[INFO] Failure number 87\n",
      "[INFO] Failure number 88\n",
      "[INFO] Failure number 89\n",
      "[INFO] Failure number 90\n",
      "[INFO] Failure number 91\n",
      "[INFO] Failure number 92\n",
      "[INFO] Failure number 93\n",
      "[INFO] Failure number 94\n",
      "[INFO] Failure number 95\n",
      "[INFO] Failure number 96\n",
      "[INFO] Failure number 97\n",
      "[INFO] Failure number 98\n",
      "[INFO] Failure number 99\n",
      "[INFO] Failure number 100\n",
      "[INFO] Failure number 101\n",
      "[INFO] Failure number 102\n",
      "[INFO] Failure number 103\n",
      "[INFO] Failure number 104\n",
      "[INFO] Failure number 105\n",
      "[INFO] Failure number 106\n",
      "[INFO] Failure number 107\n",
      "[INFO] Failure number 108\n",
      "[INFO] Failure number 109\n",
      "[INFO] Failure number 110\n",
      "[INFO] Failure number 111\n",
      "[INFO] Failure number 112\n",
      "[INFO] Failure number 113\n",
      "[INFO] Failure number 114\n",
      "[INFO] Failure number 115\n",
      "[INFO] Failure number 116\n",
      "[INFO] Failure number 117\n",
      "[INFO] Failure number 118\n",
      "[INFO] Failure number 119\n",
      "[INFO] Failure number 120\n",
      "[INFO] Failure number 121\n",
      "[INFO] Failure number 122\n",
      "[INFO] Failure number 123\n",
      "[INFO] Failure number 124\n",
      "[INFO] Failure number 125\n",
      "[INFO] Failure number 126\n",
      "[INFO] Failure number 127\n",
      "[INFO] Failure number 128\n",
      "[INFO] Failure number 129\n",
      "[INFO] Failure number 130\n",
      "[INFO] Failure number 131\n",
      "[INFO] Failure number 132\n",
      "[INFO] Failure number 133\n",
      "[INFO] Failure number 134\n",
      "[INFO] Failure number 135\n",
      "[INFO] Failure number 136\n",
      "[INFO] Failure number 137\n",
      "[INFO] Failure number 138\n",
      "[INFO] Failure number 139\n",
      "[INFO] Failure number 140\n",
      "[INFO] Failure number 141\n",
      "[INFO] Failure number 142\n",
      "[INFO] Failure number 143\n",
      "[INFO] Failure number 144\n",
      "[INFO] Failure number 145\n",
      "[INFO] Failure number 146\n",
      "[INFO] Failure number 147\n",
      "[INFO] Failure number 148\n",
      "[INFO] Failure number 149\n",
      "[INFO] Failure number 150\n",
      "[INFO] Failure number 151\n",
      "[INFO] Failure number 152\n",
      "[INFO] Failure number 153\n",
      "[INFO] Failure number 154\n",
      "[INFO] Failure number 155\n",
      "[INFO] Failure number 156\n",
      "[INFO] Failure number 157\n",
      "[INFO] Failure number 158\n",
      "[INFO] Failure number 159\n",
      "[INFO] Failure number 160\n",
      "[INFO] Failure number 161\n",
      "[INFO] Failure number 162\n",
      "[INFO] Failure number 163\n",
      "[INFO] Failure number 164\n",
      "[INFO] Failure number 165\n",
      "[INFO] Failure number 166\n",
      "[INFO] Failure number 167\n",
      "[INFO] Failure number 168\n",
      "[INFO] Failure number 169\n",
      "[INFO] Failure number 170\n",
      "[INFO] Failure number 171\n",
      "[INFO] Failure number 172\n",
      "[INFO] Failure number 173\n",
      "[INFO] Failure number 174\n",
      "[INFO] Failure number 175\n",
      "[INFO] Failure number 176\n",
      "[INFO] Failure number 177\n",
      "[INFO] Failure number 178\n",
      "[INFO] Failure number 179\n",
      "[INFO] Failure number 180\n",
      "[INFO] Failure number 181\n",
      "[INFO] Failure number 182\n",
      "[INFO] Failure number 183\n",
      "[INFO] Failure number 184\n",
      "[INFO] Failure number 185\n",
      "[INFO] Failure number 186\n",
      "[INFO] Failure number 187\n",
      "[INFO] Failure number 188\n",
      "[INFO] Failure number 189\n",
      "[INFO] Failure number 190\n",
      "[INFO] Failure number 191\n",
      "[INFO] Failure number 192\n",
      "[INFO] Failure number 193\n",
      "[INFO] Failure number 194\n",
      "[INFO] Failure number 195\n",
      "[INFO] Failure number 196\n",
      "[INFO] Failure number 197\n",
      "[INFO] Failure number 198\n",
      "[INFO] Failure number 199\n",
      "[INFO] Failure number 200\n",
      "[INFO] Failure number 201\n",
      "[INFO] Failure number 202\n",
      "[INFO] Failure number 203\n",
      "[INFO] Failure number 204\n",
      "[INFO] Failure number 205\n",
      "[INFO] Failure number 206\n",
      "[INFO] Failure number 207\n",
      "[INFO] Failure number 208\n",
      "[INFO] Failure number 209\n",
      "[INFO] Failure number 210\n",
      "[INFO] Failure number 211\n",
      "[INFO] Failure number 212\n",
      "[INFO] Failure number 213\n",
      "[INFO] Failure number 214\n",
      "[INFO] Failure number 215\n",
      "[INFO] Failure number 216\n",
      "[INFO] Failure number 217\n",
      "[INFO] Failure number 218\n",
      "[INFO] Failure number 219\n",
      "[INFO] Failure number 220\n",
      "[INFO] Failure number 221\n",
      "[INFO] Failure number 222\n",
      "[INFO] Failure number 223\n",
      "[INFO] Failure number 224\n",
      "[INFO] Failure number 225\n",
      "[INFO] Failure number 226\n",
      "[INFO] Failure number 227\n",
      "[INFO] Failure number 228\n",
      "[INFO] Failure number 229\n",
      "[INFO] Failure number 230\n",
      "[INFO] Failure number 231\n",
      "[INFO] Failure number 232\n",
      "[INFO] Failure number 233\n",
      "[INFO] Failure number 234\n",
      "[INFO] Failure number 235\n",
      "[INFO] Failure number 236\n",
      "[INFO] Failure number 237\n",
      "[INFO] Failure number 238\n",
      "[INFO] Failure number 239\n",
      "[INFO] Failure number 240\n",
      "[INFO] Failure number 241\n",
      "[INFO] Failure number 242\n",
      "[INFO] Failure number 243\n",
      "[INFO] Failure number 244\n",
      "[INFO] Failure number 245\n",
      "[INFO] Failure number 246\n",
      "[INFO] Failure number 247\n",
      "[INFO] Failure number 248\n"
     ]
    },
    {
     "data": {
      "image/png": "[encoded data removed]",
      "text/plain": [
       "<Figure size 432x288 with 1 Axes>"
      ]
     },
     "metadata": {
      "needs_background": "light"
     },
     "output_type": "display_data"
    }
   ],
   "source": [
    "\"\"\"\n",
    "CS 229 Machine Learning, Fall 2017\n",
    "Problem Set 4\n",
    "Question: Reinforcement Learning: The inverted pendulum\n",
    "Author: Sanyam Mehra, sanyam@stanford.edu\n",
    "\"\"\"\n",
    "from __future__ import division, print_function\n",
    "from data.cart_pole import CartPole, Physics\n",
    "import matplotlib.pyplot as plt\n",
    "import numpy as np\n",
    "from scipy.signal import lfilter\n",
    "\n",
    "\"\"\"\n",
    "Parts of the code (cart and pole dynamics, and the state\n",
    "discretization) are inspired from code available at the RL repository\n",
    "http://www-anw.cs.umass.edu/rlr/domains.html\n",
    "\n",
    "This file controls the pole-balancing simulation. You only need to\n",
    "write code in between places marked\n",
    "###### BEGIN YOUR CODE ######\n",
    "###### END YOUR CODE ######\n",
    "\n",
    "Briefly, the cart-pole system is described in `cart_pole.py`. The main\n",
    "simulation loop in this file calls the `simulate()` function for\n",
    "simulating the pole dynamics, `get_state()` for discretizing the\n",
    "otherwise continuous state space in discrete states, and `show_cart()`\n",
    "for display.\n",
    "\n",
    "Some useful parameters are listed below:\n",
    "\n",
    "`NUM_STATES`: Number of states in the discretized state space\n",
    "You must assume that states are numbered 0 through `NUM_STATES` - 1. The\n",
    "state numbered `NUM_STATES` - 1 (the last one) is a special state that\n",
    "marks the state when the pole has been judged to have fallen (or when\n",
    "the cart is out of bounds). However, you should NOT treat this state\n",
    "any differently in your code. Any distinctions you need to make between\n",
    "states should come automatically from your learning algorithm.\n",
    "\n",
    "After each simulation cycle, you are supposed to update the transition\n",
    "counts and rewards observed. However, you should not change either\n",
    "your value function or the transition probability matrix at each\n",
    "cycle.\n",
    "\n",
    "Whenever the pole falls, a section of your code below will be\n",
    "executed. At this point, you must use the transition counts and reward\n",
    "observations that you have gathered to generate a new model for the MDP\n",
    "(i.e. transition probabilities and state rewards). After that, you\n",
    "must use value iteration to get the optimal value function for this MDP\n",
    "model.\n",
    "\n",
    "`TOLERANCE`: Controls the convergence criteria for each value iteration\n",
    "run. In value iteration, you can assume convergence when the maximum\n",
    "absolute change in the value function at any state in an iteration\n",
    "becomes lower than `TOLERANCE.\n",
    "\n",
    "You need to write code that chooses the best action according\n",
    "to your current value function, and the current model of the MDP. The\n",
    "action must be either 0 or 1 (corresponding to possible directions of\n",
    "pushing the cart)\n",
    "\n",
    "Finally, we assume that the simulation has converged when\n",
    "`NO_LEARNING_THRESHOLD` consecutive value function computations all\n",
    "converged within one value function iteration. Intuitively, it seems\n",
    "like there will be little learning after this, so we end the simulation\n",
    "here, and say the overall algorithm has converged.\n",
    "\n",
    "\n",
    "Learning curves can be generated by calling a code snippet at the end\n",
    "(it assumes that the learning was just executed, and the array\n",
    "`time_steps_to_failure` that records the time for which the pole was\n",
    "balanced before each failure are in memory). `num_failures` is a variable\n",
    "that stores the number of failures (pole drops / cart out of bounds)\n",
    "till now.\n",
    "\n",
    "Other parameters in the code are described below:\n",
    "\n",
    "`GAMMA`: Discount factor to be used\n",
    "\n",
    "The following parameters control the simulation display; you dont\n",
    "really need to know about them:\n",
    "\n",
    "`pause_time`: Controls the pause between successive frames of the\n",
    "display. Higher values make your simulation slower.\n",
    "`min_trial_length_to_start_display`: Allows you to start the display only\n",
    "after the pole has been successfully balanced for at least this many\n",
    "trials. Setting this to zero starts the display immediately. Choosing a\n",
    "reasonably high value (around 100) can allow you to rush through the\n",
    "initial learning quickly, and start the display only after the\n",
    "performance is reasonable.\n",
    "\"\"\"\n",
    "\n",
    "\n",
    "# Simulation parameters\n",
    "pause_time = 0.0001\n",
    "min_trial_length_to_start_display = 100\n",
    "display_started = min_trial_length_to_start_display == 0\n",
    "\n",
    "NUM_STATES = 163\n",
    "NUM_ACTIONS = 2\n",
    "GAMMA = 0.995\n",
    "TOLERANCE = 0.01\n",
    "NO_LEARNING_THRESHOLD = 20\n",
    "\n",
    "# Time cycle of the simulation\n",
    "time = 0\n",
    "\n",
    "# These variables perform bookkeeping (how many cycles was the pole\n",
    "# balanced for before it fell). Useful for plotting learning curves.\n",
    "time_steps_to_failure = []\n",
    "num_failures = 0\n",
    "time_at_start_of_current_trial = 0\n",
    "\n",
    "# You should reach convergence well before this\n",
    "max_failures = 500\n",
    "\n",
    "# Initialize a cart pole\n",
    "cart_pole = CartPole(Physics())\n",
    "\n",
    "# Starting `state_tuple` is (0, 0, 0, 0)\n",
    "# x, x_dot, theta, theta_dot represents the actual continuous state vector\n",
    "x, x_dot, theta, theta_dot = 0.0, 0.0, 0.0, 0.0\n",
    "state_tuple = (x, x_dot, theta, theta_dot)\n",
    "\n",
    "# `state` is the number given to this state, you only need to consider\n",
    "# this representation of the state\n",
    "state = cart_pole.get_state(state_tuple)\n",
    "# if min_trial_length_to_start_display == 0 or display_started == 1:\n",
    "#     cart_pole.show_cart(state_tuple, pause_time)\n",
    "\n",
    "# Perform all your initializations here:\n",
    "# Assume no transitions or rewards have been observed.\n",
    "# Initialize the value function array to small random values (0 to 0.10,\n",
    "# say).\n",
    "# Initialize the transition probabilities uniformly (ie, probability of\n",
    "# transitioning for state x to state y using action a is exactly\n",
    "# 1/NUM_STATES).\n",
    "# Initialize all state rewards to zero.\n",
    "\n",
    "###### BEGIN YOUR CODE ######----------------------------------------------------------\n",
    "# TODO:\n",
    "#raise NotImplementedError('Initializations not implemented')\n",
    "\n",
    "# init value function\n",
    "V = 0.1*np.random.rand(NUM_STATES)\n",
    "# init transition probabilities\n",
    "P_sa = np.ones((NUM_STATES, NUM_ACTIONS, NUM_STATES)) / NUM_STATES\n",
    "#P_sa = np.ones((NUM_STATES, NUM_STATES, NUM_STATES)) / NUM_STATES\n",
    "# init all state rewards\n",
    "R_s = np.zeros(NUM_STATES)\n",
    "\n",
    "\n",
    "# record the number of times `state, action, new_state` occurs\n",
    "transition_count = np.zeros((NUM_STATES, NUM_ACTIONS, NUM_STATES))\n",
    "# record the rewards for every `new_state`\n",
    "reward_tot = np.zeros(NUM_STATES)\n",
    "# record the number of time `new_state` was reached\n",
    "reward_count = np.zeros(NUM_STATES)\n",
    "\n",
    "###### END YOUR CODE ######----------------------------------------------------------\n",
    "\n",
    "# This is the criterion to end the simulation.\n",
    "# You should change it to terminate when the previous\n",
    "# 'NO_LEARNING_THRESHOLD' consecutive value function computations all\n",
    "# converged within one value function iteration. Intuitively, it seems\n",
    "# like there will be little learning after this, so end the simulation\n",
    "# here, and say the overall algorithm has converged.\n",
    "\n",
    "consecutive_no_learning_trials = 0\n",
    "while consecutive_no_learning_trials < NO_LEARNING_THRESHOLD:\n",
    "\n",
    "    # Write code to choose action (0 or 1).\n",
    "    # This action choice algorithm is just for illustration. It may\n",
    "    # convince you that reinforcement learning is nice for control\n",
    "    # problems!Replace it with your code to choose an action that is\n",
    "    # optimal according to the current value function, and the current MDP\n",
    "    # model.\n",
    "    ###### BEGIN YOUR CODE ######----------------------------------------------------------\n",
    "    # TODO:\n",
    "    #raise NotImplementedError('Action choice not implemented')\n",
    "    # action = 0 if np.random.uniform() < 0.5 else 1\n",
    "    action =  np.argmax(P_sa[state]@V)\n",
    "    ###### END YOUR CODE ######----------------------------------------------------------\n",
    "\n",
    "    # Get the next state by simulating the dynamics\n",
    "    state_tuple = cart_pole.simulate(action, state_tuple)\n",
    "    # x, x_dot, theta, theta_dot = state_tuple\n",
    "\n",
    "    # Increment simulation time\n",
    "    time = time + 1\n",
    "\n",
    "    # Get the state number corresponding to new state vector\n",
    "    new_state = cart_pole.get_state(state_tuple)\n",
    "    # if display_started == 1:\n",
    "    #     cart_pole.show_cart(state_tuple, pause_time)\n",
    "\n",
    "    # reward function to use - do not change this!\n",
    "    if new_state == NUM_STATES - 1:\n",
    "        R = -1\n",
    "    else:\n",
    "        R = 0\n",
    "\n",
    "    # Perform model updates here.\n",
    "    # A transition from `state` to `new_state` has just been made using\n",
    "    # `action`. The reward observed in `new_state` (note) is `R`.\n",
    "    # Write code to update your statistics about the MDP i.e. the\n",
    "    # information you are storing on the transitions and on the rewards\n",
    "    # observed. Do not change the actual MDP parameters, except when the\n",
    "    # pole falls (the next if block)!\n",
    "\n",
    "    ###### BEGIN YOUR CODE ######----------------------------------------------------------\n",
    "    # TODO:\n",
    "    #raise NotImplementedError('Update T and R not implemented')\n",
    "    # record the number of times `state, action, new_state` occurs\n",
    "    transition_count[state, action, new_state] += 1\n",
    "    # record the rewards for every `new_state`\n",
    "    reward_tot[new_state] += R\n",
    "    # record the number of time `new_state` was reached\n",
    "    reward_count[new_state] += 1\n",
    "    ###### END YOUR CODE ######----------------------------------------------------------\n",
    "\n",
    "    # Recompute MDP model whenever pole falls\n",
    "    # Compute the value function V for the new model\n",
    "    if new_state == NUM_STATES - 1:\n",
    "\n",
    "        # Update MDP model using the current accumulated statistics about the\n",
    "        # MDP - transitions and rewards.\n",
    "        # Make sure you account for the case when a state-action pair has never\n",
    "        # been tried before, or the state has never been visited before. In that\n",
    "        # case, you must not change that component (and thus keep it at the\n",
    "        # initialized uniform distribution).\n",
    "\n",
    "        ###### BEGIN YOUR CODE ######----------------------------------------------------------\n",
    "        # TODO:\n",
    "        #raise NotImplementedError('MDP  T and R update not implemented')\n",
    "        \n",
    "        # total count of times each state and action occured\n",
    "        counts = transition_count.sum(axis = 2)\n",
    "        pos_counts = counts > 0 # only chagne P_sa where model spanned\n",
    "        # update P_sa\n",
    "        P_sa[pos_counts] = transition_count[pos_counts] / counts[pos_counts].reshape(-1,1)\n",
    "        \n",
    "        # update rewards\n",
    "        pos_rewards = reward_count > 0\n",
    "        #**** line 236\n",
    "        R_s[pos_rewards] = reward_tot[pos_rewards] / reward_count[pos_rewards]\n",
    "        ###### END YOUR CODE ######----------------------------------------------------------\n",
    "\n",
    "        # Perform value iteration using the new estimated model for the MDP.\n",
    "        # The convergence criterion should be based on `TOLERANCE` as described\n",
    "        # at the top of the file.\n",
    "        # If it converges within one iteration, you may want to update your\n",
    "        # variable that checks when the whole simulation must end.\n",
    "        \n",
    "        ###### BEGIN YOUR CODE ######----------------------------------------------------------\n",
    "        # TODO:\n",
    "        #raise NotImplementedError('Value iteration choice not implemented')\n",
    "        \n",
    "        count = 0\n",
    "        delta = float('inf')\n",
    "        while delta >= TOLERANCE:\n",
    "            V_hold = V.copy()\n",
    "            # update V\n",
    "            V =  R_s + GAMMA * np.max(np.sum(P_sa * V, axis=2), axis=1)\n",
    "            # calculate delta\n",
    "            delta = np.abs(V-V_hold).max()\n",
    "            count+=1\n",
    "        \n",
    "        # incrament consecutive_no_learning_trials if the solution only updates within TOLERENCE\n",
    "        if count == 1:\n",
    "            consecutive_no_learning_trials += 1\n",
    "        else:\n",
    "            consecutive_no_learning_trials = 0\n",
    "            \n",
    "        ###### END YOUR CODE ######----------------------------------------------------------\n",
    "\n",
    "    # Do NOT change this code: Controls the simulation, and handles the case\n",
    "    # when the pole fell and the state must be reinitialized.\n",
    "    if new_state == NUM_STATES - 1:\n",
    "        num_failures += 1\n",
    "        if num_failures >= max_failures:\n",
    "            break\n",
    "        print('[INFO] Failure number {}'.format(num_failures))\n",
    "        time_steps_to_failure.append(time - time_at_start_of_current_trial)\n",
    "        # time_steps_to_failure[num_failures] = time - time_at_start_of_current_trial\n",
    "        time_at_start_of_current_trial = time\n",
    "\n",
    "        if time_steps_to_failure[num_failures - 1] > min_trial_length_to_start_display:\n",
    "            display_started = 1\n",
    "\n",
    "        # Reinitialize state\n",
    "        # x = 0.0\n",
    "        x = -1.1 + np.random.uniform() * 2.2\n",
    "        x_dot, theta, theta_dot = 0.0, 0.0, 0.0\n",
    "        state_tuple = (x, x_dot, theta, theta_dot)\n",
    "        state = cart_pole.get_state(state_tuple)\n",
    "    else:\n",
    "        state = new_state\n",
    "\n",
    "# plot the learning curve (time balanced vs. trial)\n",
    "log_tstf = np.log(np.array(time_steps_to_failure))\n",
    "plt.plot(np.arange(len(time_steps_to_failure)), log_tstf, 'k')\n",
    "window = 30\n",
    "w = np.array([1/window for _ in range(window)])\n",
    "weights = lfilter(w, 1, log_tstf)\n",
    "x = np.arange(window//2, len(log_tstf) - window//2)\n",
    "plt.plot(x, weights[window:len(log_tstf)], 'r--')\n",
    "plt.xlabel('Num failures')\n",
    "plt.ylabel('Num steps to failure')\n",
    "plt.show()\n"
   ]
  },
  {
   "cell_type": "code",
   "execution_count": null,
   "id": "453fb092-03c3-4c83-a5b3-a51e604c63e3",
   "metadata": {},
   "outputs": [],
   "source": []
  }
 ],
 "metadata": {
  "kernelspec": {
   "display_name": "Python 3 (ipykernel)",
   "language": "python",
   "name": "python3"
  },
  "language_info": {
   "codemirror_mode": {
    "name": "ipython",
    "version": 3
   },
   "file_extension": ".py",
   "mimetype": "text/x-python",
   "name": "python",
   "nbconvert_exporter": "python",
   "pygments_lexer": "ipython3",
   "version": "3.8.12"
  }
 },
 "nbformat": 4,
 "nbformat_minor": 5
}
