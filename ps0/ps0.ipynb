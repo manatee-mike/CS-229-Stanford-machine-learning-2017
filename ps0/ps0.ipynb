{
 "cells": [
  {
   "cell_type": "markdown",
   "id": "ef7cae15-fead-4237-a5ad-6025cc7b0075",
   "metadata": {},
   "source": [
    "# Problem Set 0\n",
    "\n"
   ]
  },
  {
   "cell_type": "markdown",
   "id": "c47f7139-f678-4e28-b394-428c43285743",
   "metadata": {
    "tags": []
   },
   "source": [
    "# Question 1\n",
    "\n",
    "Recall that a matrix $A\\in\\mathbb{R}^{n\\times n}$ is *symmetric* if $A^T = A$, that is, $A_{ij} = A_{ji}$ for all $i,j$. Also recall the gradient $\\nabla f(x)$ of a function $f:\\mathbb{R}^n \\to \\mathbb{R}$, which is the n-vector of partial derivatives\n",
    "\n",
    "$$\n",
    "\\nabla f(x) = \n",
    "\\begin{bmatrix}\n",
    "\\frac{\\partial}{\\partial x_1}f(x) \\\\\n",
    "\\vdots \\\\\n",
    "\\frac{\\partial}{\\partial x_n}f(x)\n",
    "\\end{bmatrix}\n",
    "\\text{ where } x = \n",
    "\\begin{bmatrix} \n",
    "    x_{1}  \\\\\n",
    "    \\vdots \\\\\n",
    "    x_{n}  \n",
    "\\end{bmatrix}\n",
    "$$\n",
    "\n",
    "The hessian $\\nabla^2 f(x)$ of a function $f:\\mathbb{R}^n \\to \\mathbb{R}$ is the $n \\times n$ *symmetric* matrix of twice partial derivatives,\n",
    "$$\n",
    "\\nabla^2 f(x) =\n",
    "\\begin{bmatrix}\n",
    "\\frac{\\partial^2}{\\partial x_1^2}f(x) & \\frac{\\partial^2}{\\partial x_1 x_2}f(x) & \\cdots & \\frac{\\partial^2}{\\partial x_1 x_n}f(x) \\\\\n",
    "\\frac{\\partial}{\\partial x_2 x_1}f(x) & \\frac{\\partial}{\\partial x_2^2}f(x) & \\cdots & \\frac{\\partial}{\\partial x_2 x_n}f(x) \\\\\n",
    "\\vdots & \\vdots & \\ddots & \\vdots \\\\\n",
    "\\frac{\\partial}{\\partial x_n x_1}f(x) & \\frac{\\partial}{\\partial x_n x_2}f(x) & \\cdots & \\frac{\\partial}{\\partial x_n^2}f(x) \\\\\n",
    "\\end{bmatrix}\n",
    "$$\n",
    "\n",
    "a. Let $f(x) = \\frac{1}{2} x^TAx + b^Tx$, where A is a symmetric matrix and $b\\in\\mathbb{R}^n$ is a vector. What is $\\nabla f(x)$?\n",
    "\n",
    "b. Let $f(x) = g(h(x))$, where $g:\\mathbb{R}\\to\\mathbb{R}$ is differentiable and $h:\\mathbb{R}^n\\to\\mathbb{R}$ is differentiable. What is $\\nabla f(x)$?\n",
    "\n",
    "c. Let $f(x) = \\frac{1}{2} X^TAx + b^Tx$, where A is a symmetric and $b\\in\\mathbb{R}^n$ is a vector. What is $\\nabla^2 f(x)$?\n",
    "\n",
    "d. Let $f(x) = g(a^Tx)$, where $g:\\mathbb{R}\\to\\mathbb{R}$ is continuously differentiable and $a\\in\\mathbb{R}^n$ is a vector. What are $\\nabla f(x)$ and $\\nabla^2 f(x)$? (*Hint:* your expression for $\\nabla^2 f(x)$ may have as few as 11 symbos, including ' and parentheses.)\n",
    "\n",
    "\n"
   ]
  },
  {
   "cell_type": "markdown",
   "id": "955f6e43-0994-4b82-87e8-81b7d963e8b4",
   "metadata": {
    "jp-MarkdownHeadingCollapsed": true,
    "tags": []
   },
   "source": [
    "## Part A Answer\n",
    "\n",
    "Assume $f(x) = \\frac{1}{2} x^TAx + b^Tx$, where A is a symmetric matrix and $b\\in\\mathbb{R}^n$ is a vector. Then\n",
    "\n",
    "$$\n",
    "\\nabla f(x) = \\nabla \\left(\\frac{1}{2} x^TAx + b^Tx\\right) \\\\\n",
    "= \\frac{1}{2}\\nabla \\left(x^TAx\\right) + \\nabla\\left(b^Tx\\right) \\\\\n",
    "= \\frac{1}{2} \\left(A+A^T\\right)x + b \\\\\n",
    "= Ax + b\n",
    "$$"
   ]
  },
  {
   "cell_type": "markdown",
   "id": "643de7b7-d027-4b81-8bba-c18434ccdbc9",
   "metadata": {},
   "source": [
    "## Part B Answer\n",
    "\n",
    "Assume $f(x) = g(h(x))$, where $g:\\mathbb{R}\\to\\mathbb{R}$ is differentiable and $h:\\mathbb{R}^n$. Then\n",
    "\n",
    "I dont think this is correct\n",
    "\n",
    "$$\n",
    "\\nabla f(x) = \\nabla g(h(x)) \\\\\n",
    "= g'(h(x)) \\cdot \\nabla h(x)\n",
    "$$\n"
   ]
  },
  {
   "cell_type": "markdown",
   "id": "cf2d04aa-7e67-4fc5-884b-390f0b6a52aa",
   "metadata": {
    "tags": []
   },
   "source": [
    "## Part C Answer\n",
    "\n",
    "Assume $f(x) = \\frac{1}{2} x^TAx + b^Tx$, where A is a symmetric and $b\\in\\mathbb{R}^n$ is a vector. Then\n",
    "\n",
    "$$\n",
    "\\nabla^2 f(x) = A\n",
    "$$"
   ]
  },
  {
   "cell_type": "markdown",
   "id": "a0ef8f88-929f-4613-aee2-56383d2fdeb5",
   "metadata": {
    "jp-MarkdownHeadingCollapsed": true,
    "tags": []
   },
   "source": [
    "## Part D Answer\n",
    "\n",
    "Assume $f(x) = g(a^Tx)$, where $g:\\mathbb{R}\\to\\mathbb{R}$ is continuously differentiable and $a\\in\\mathbb{R}^n$ is a vector. Then\n",
    "\n",
    "$$\n",
    "\\nabla f(x) = g'(a^Tx)\\cdot a\n",
    "$$\n",
    "\n",
    "$$\n",
    "\\nabla^2 f(x) = g''(a^Tx)\\cdot aa^T\n",
    "$$"
   ]
  },
  {
   "cell_type": "markdown",
   "id": "8670b150-a58e-4e6f-960c-14569242d217",
   "metadata": {},
   "source": [
    "# Queston 2\n",
    "\n",
    "A matrix $A\\in\\mathbb{R}^{n\\times n}$ is *positive semi-definite* (PSD), denoted $A \\succeq 0$, if $A^T = A$ and $x^TAx \\ge 0$ for all $x\\in\\mathbb{R}^n$. A matrix A is *positive definite*, denoted $A \\succ 0$, if $A^T = A$ and $x^TAx > 0$ for all $x\\neq 0$ that is, all non-zero vectors $x$. The simplest example of a positive definite matrix is the identity $I$ (the diagonal matrix with 1s on the diagonal and 0s elsewhere), which satisfies $x^TIx=\\Vert x \\Vert^2_2 = \\sum_{i=1}^{n} x_i$\n",
    "\n",
    "a. Let $z \\in \\mathbb{R}^n$ be an n-vector. Show that $A = zz^T$ is positive semidefinite.\n",
    "\n",
    "b. Let $z \\in \\mathbb{R}^n$ be a non-zero n-vector. Let $A = zz^T$. What is the null-space of A? What is the rank of A?\n",
    "\n",
    "c. Let $A\\in\\mathbb{R}^{n\\times n}$ be positive semidefinite and $B\\in\\mathbb{R}^{m \\times n}$ be arbitrary, where $m,n \\in \\mathbb{N}$. Is $BAB^T$ PSD? If so, prove it. If not, give a counterexample with explicit $A,B$.\n"
   ]
  },
  {
   "cell_type": "markdown",
   "id": "a5766012-3a55-4199-87ee-cefad819b599",
   "metadata": {
    "tags": []
   },
   "source": [
    "## Part A Answer\n",
    "\n",
    "Assume $x,z \\in \\mathbb{R}^n$ and $A = zz^T$. Thus\n",
    "\n",
    "$$\n",
    "x^TAx = x^Tzz^Tx = \n",
    "(x^Tz)(z^Tx) = \\left(\\sum_{i=1}^{n} x_iz_i\\right)\\left(\\sum_{i=1}^{n} z_ix_i\\right) = \\left(\\sum_{i=1}^{n} x_iz_i\\right)^2 \\ge 0\n",
    "$$\n",
    "\n",
    "Additionally,\n",
    "\n",
    "$$\n",
    "A =\\begin{bmatrix}\n",
    "z_1z_1 & z_1z_2 & \\cdots & z_1z_n \\\\\n",
    "z_2z_1 & z_2z_2 & \\cdots & z_2z_n \\\\\n",
    "\\vdots & \\vdots & \\ddots & \\vdots \\\\\n",
    "z_nz_1 & z_nz_2 & \\cdots & z_nz_n \\\\\n",
    "\\end{bmatrix}\n",
    "$$\n",
    "\n",
    "which is symmetric. Therefore $A$ is symmetric and $x^TAx \\ge 0$, which implies $A$ is PSD. QED"
   ]
  },
  {
   "cell_type": "markdown",
   "id": "bd9f2678-8bcf-4bef-a816-600c32d8ece6",
   "metadata": {
    "jp-MarkdownHeadingCollapsed": true,
    "tags": []
   },
   "source": [
    "## Part B Answer\n",
    "\n",
    "Assume $z \\in \\mathbb{R}^n$ be non-zero and $A = zz^T$. Thus\n",
    "\n",
    "$$\n",
    "A =\\begin{bmatrix}\n",
    "z_1z_1 & z_1z_2 & \\cdots & z_1z_n \\\\\n",
    "z_2z_1 & z_2z_2 & \\cdots & z_2z_n \\\\\n",
    "\\vdots & \\vdots & \\ddots & \\vdots \\\\\n",
    "z_nz_1 & z_nz_2 & \\cdots & z_nz_n \\\\\n",
    "\\end{bmatrix}\n",
    "$$\n",
    "\n",
    "If we define $C_i$ as the $i^{th}$ column of A then $C_i = C_1\\frac{z_i}{z_1}$. Thus $Rank(A) = 1$ and $Null(A) = n - Rank(a) = n-1$. QED"
   ]
  },
  {
   "cell_type": "markdown",
   "id": "78ab9f3f-d3b8-40fb-8e25-6889c8d4dd95",
   "metadata": {},
   "source": [
    "## Part C Answer\n",
    "\n",
    "Assume $x \\in \\mathbb{R}^m$, $A\\in\\mathbb{R}^{n\\times n}$ be positive semidefinite and $B\\in\\mathbb{R}^{m \\times n}$. If we define $z = B^Tx$ then we get\n",
    "\n",
    "$$\n",
    "x^TBAB^Tx = (x^TB)A(B^Tx) = z^TAz \\ge 0\n",
    "$$\n",
    "\n",
    "Therefore we have shown $BAB^T$ is PSD. QED"
   ]
  },
  {
   "cell_type": "markdown",
   "id": "2f16a5f6-30b7-4f53-964e-b50389f620b5",
   "metadata": {},
   "source": [
    "# Question 3\n",
    "\n",
    "The eigenvalues of an $n \\times n$ matrix $A\\in\\mathbb{R}^{n\\times n}$ are the roots of the characteristic polynomial $p_A(\\lambda) = det(A-\\lambda I)$, which may (in general) be complex. They are also defined as the values $\\lambda \\in \\mathbb{C}$ for which there exists a vector $x \\in \\mathbb{C}^n$ such that $Ax = \\lambda x$. We call such a pair $(x,\\lambda)$ an *eigenvector*, *eigenvalue* pair. In this question, we use the notation $diag(\\lambda_1,\\dots,\\lambda_n)$ to denote the diagonal matrix with diagonal entries $\\lambda_1,\\dots,\\lambda_n$, that is\n",
    "\n",
    "$$\n",
    "diag(\\lambda_1,\\dots,\\lambda_n) =\n",
    "\\begin{bmatrix}\n",
    "\\lambda_1 & 0 & 0 & \\cdots & 0 \\\\\n",
    "0 & \\lambda_2 & 0 & \\cdots & 0 \\\\\n",
    "0 & 0 & \\lambda_3 & \\cdots & 0 \\\\\n",
    "\\vdots & \\vdots & \\vdots & \\ddots & \\vdots \\\\\n",
    "0 & 0 & 0 & \\cdots & \\lambda_n \\\\\n",
    "\\end{bmatrix}\n",
    "$$\n",
    "\n",
    "a. Suppose that the matrix $A\\in\\mathbb{R}^{n\\times n}$ is diagonalizable, that is, $A = T\\Lambda T^{-1}$ for an invertible matrix $T\\in\\mathbb{R}^{n\\times n}$, where $\\Lambda = diag(\\lambda_1,\\dots,\\lambda_n)$ is diagonal. Use the notation $t(i)$ for the columns of $T$, so that $T = [t(1),\\dots, t(n)]$, where $t(i) \\in \\mathbb{R}^n$. Show that $At(i) = \\lambda_it(i)$, so that the eigenvalues/eigenvector pairs of $A$ are $(t(i),\\lambda_i)$.\n",
    "\n",
    "A matrix $U \\in \\mathbb{R}^{n\\times n}$ is orthogonal if $U^TU = I$. The spectral theorem, perhaps one of the most important theorems in linear algebra, states that if $A\\in \\mathbb{R}^{n\\times n}$ is symetric, that is, $A = A^T$, then $A$ is diagonalizable by a real orthogonal matrix. That is, there are a diagonal matrix $\\Lambda \\in \\mathbb{R}^{n\\times n}$ and orthogonal matrix $U \\in \\mathbb{R}^{n\\times n}$ such that $U^TAU = \\Lambda$, or, equivalently,\n",
    "\n",
    "$$\n",
    "A = U\\Lambda U^T\n",
    "$$\n",
    "\n",
    "b. Let $A$ be symmetric. Show that if $U = [u(1),\\dots,u(n)]$ is orthogonal, where $u(i) \\in \\mathbb{R}^n$ and $A = U\\Lambda U^T$, then $u(i)$ is an eigenvector of $A$ and $Au(i) = \\lambda_iu(i)$, where $\\Lambda = diag(\\lambda_1,\\dots,\\lambda_n)$.\n",
    "\n",
    "c. Show that if A is PSD, then $\\lambda_i(A) \\ge 0$ for each i.\n"
   ]
  },
  {
   "cell_type": "markdown",
   "id": "87974ca5-17b7-41f7-9e58-6cdb5e3b26e6",
   "metadata": {
    "tags": []
   },
   "source": [
    "## Part A Answer\n",
    "\n",
    "Assume $A\\in\\mathbb{R}^{n\\times n}$ is diagonalizable, where $A = T\\Lambda T^{-1}$ for an invertible matrix $T\\in\\mathbb{R}^{n\\times n}$ and $\\Lambda = diag(\\lambda_1,\\dots,\\lambda_n)$ is diagonal. Let $t(i)$ be the $i^{th}$ column vector of $T$. Thus\n",
    "\n",
    "$$\n",
    "At(i) = T \\Lambda T^{-1} t(i) = T \\Lambda (T^{-1} t(i))\n",
    "$$\n",
    "\n",
    "Let $s(i) = T^{-1} t(i)$. Then $s(i)$ is a zero vector except for $s_ii = 1$. Thus \n",
    "\n",
    "$$\n",
    "\\Lambda s(i) = \n",
    "\\begin{bmatrix}\n",
    "0 & 0 & 0 & 0 & \\cdots & 0 \\\\\n",
    "0 & 0 & 0 & 0 & \\cdots & 0 \\\\\n",
    "\\vdots & \\vdots & \\ddots & \\vdots & \\vdots & \\vdots \\\\\n",
    "0 & 0 & 0 & \\lambda_i & \\cdots & 0 \\\\\n",
    "\\vdots & \\vdots & \\vdots & \\vdots & \\ddots & \\vdots \\\\\n",
    "0 & 0 & 0 & 0 & \\cdots & 0 \\\\\n",
    "\\end{bmatrix}\n",
    "$$\n",
    "\n",
    "which implies\n",
    "\n",
    "$$\n",
    "T\\Lambda s(i) = T\\begin{bmatrix}\n",
    "0 & 0 & 0 & 0 & \\cdots & 0 \\\\\n",
    "0 & 0 & 0 & 0 & \\cdots & 0 \\\\\n",
    "\\vdots & \\vdots & \\ddots & \\vdots & \\vdots & \\vdots \\\\\n",
    "0 & 0 & 0 & \\lambda_i & \\cdots & 0 \\\\\n",
    "\\vdots & \\vdots & \\vdots & \\vdots & \\ddots & \\vdots \\\\\n",
    "0 & 0 & 0 & 0 & \\cdots & 0 \\\\\n",
    "\\end{bmatrix} = t(i)\\lambda_i = \\lambda_it(i)\n",
    "$$\n",
    "\n",
    "Thus we have shown $At(i) = T \\Lambda T^{-1} t(i) = \\lambda_i t(i)$ which is what we wanted to show. QED"
   ]
  },
  {
   "cell_type": "code",
   "execution_count": 1,
   "id": "1aecbd46-e037-4072-ab0b-91022c5a6ac1",
   "metadata": {},
   "outputs": [
    {
     "name": "stdout",
     "output_type": "stream",
     "text": [
      "s_i = array([1., 0., 0.])\n"
     ]
    }
   ],
   "source": [
    "# Example for s(i)\n",
    "import numpy as np\n",
    "\n",
    "T = np.array([[1,2,3],[4,5,6],[7,8,10]])\n",
    "Tinv = np.linalg.inv(T)\n",
    "# set i to 0, 1, or 2\n",
    "i = 0\n",
    "s_i = Tinv @ T[:,i]\n",
    "\n",
    "print(f'{s_i = }')"
   ]
  },
  {
   "cell_type": "markdown",
   "id": "1b773297-03a3-4917-b3ff-8085ae7cc18c",
   "metadata": {},
   "source": [
    "## Part B Answer\n",
    "\n",
    "Assume $A\\in\\mathbb{R}^{n\\times n}$ is symmetric, $U = [u(1),\\dots,u(n)]$ is orthogonal, where $u(i) \\in \\mathbb{R}^n$ and $A = U\\Lambda U^T$. Thus\n",
    "\n",
    "$$\n",
    "Au(i) = U \\Lambda U^{T} u(i) = U \\Lambda U^{-1} u(i)\n",
    "$$\n",
    "\n",
    "Therefore, by Part a we get \n",
    "$$\n",
    "Au(i) = U \\Lambda U^{-1} u(i) = \\lambda_iu_i\n",
    "$$\n",
    "\n",
    "which is what we wanted to show. QED"
   ]
  },
  {
   "cell_type": "markdown",
   "id": "f36839ce-87be-4ca4-9270-68a0aa11118c",
   "metadata": {},
   "source": [
    "## Part C Answer\n",
    "\n",
    "Assume $A\\in\\mathbb{R}^{n\\times n}$ is PSD and $u(i)\\in\\mathbb{R}^{n}$ is a the eignenvector correponding to $\\lambda_i$. Thus\n",
    "\n",
    "$$\n",
    "0 \\le u^T(i)Au(i) = u^T(i)\\left(Au(i)\\right) = u^T(i)\\lambda_i u(i) = \\lambda_i u^T(i) u(i) = \\lambda_i \\sum_{j=1}^{n} u(i)_j^2\n",
    "$$\n",
    "\n",
    "which only holds when $\\lambda_i \\ge 0$. Thus we have shown that $\\lambda_i(A) \\ge 0$ which is what we wanted to show. QED"
   ]
  },
  {
   "cell_type": "code",
   "execution_count": null,
   "id": "5ea4cc2f-fbbf-4063-8414-7f2a250a2899",
   "metadata": {},
   "outputs": [],
   "source": []
  }
 ],
 "metadata": {
  "kernelspec": {
   "display_name": "Python 3 (ipykernel)",
   "language": "python",
   "name": "python3"
  },
  "language_info": {
   "codemirror_mode": {
    "name": "ipython",
    "version": 3
   },
   "file_extension": ".py",
   "mimetype": "text/x-python",
   "name": "python",
   "nbconvert_exporter": "python",
   "pygments_lexer": "ipython3",
   "version": "3.8.12"
  }
 },
 "nbformat": 4,
 "nbformat_minor": 5
}
