{
 "cells": [
  {
   "cell_type": "markdown",
   "id": "7b26d8bd-370a-424d-86a8-fad864e138a6",
   "metadata": {
    "tags": []
   },
   "source": [
    "# Problem Set 2"
   ]
  },
  {
   "cell_type": "code",
   "execution_count": 1,
   "id": "34134fd6-f348-4c21-bb60-5460f2f0f02e",
   "metadata": {},
   "outputs": [],
   "source": [
    "import matplotlib.pyplot as plt\n",
    "import numpy as np\n",
    "import pandas as pd\n",
    "import seaborn as sns\n",
    "\n",
    "%matplotlib inline"
   ]
  },
  {
   "cell_type": "code",
   "execution_count": 2,
   "id": "f5b721ff-acbe-488d-a9c3-809b14b8fb73",
   "metadata": {},
   "outputs": [],
   "source": [
    "dataDir = \"./data/\""
   ]
  },
  {
   "cell_type": "markdown",
   "id": "6371d88d-f07c-413e-8386-bf237b652ad6",
   "metadata": {
    "tags": []
   },
   "source": [
    "# Question 1\n",
    "\n",
    "\n"
   ]
  },
  {
   "cell_type": "code",
   "execution_count": 3,
   "id": "8a0b2716-d5d7-4d9b-91a8-88acf85b39e7",
   "metadata": {},
   "outputs": [],
   "source": [
    "# import lr_debug.py\n",
    "# Note: this file was edited to find the data\n",
    "# ./data/ was added on lines 54 and 58\n",
    "# this code below runs the logistic models for datasets a and b but infinitely long so \n",
    "# DO NOT run outside of the false if statement unless you intend to interupt it.\n",
    "\n",
    "from data import lr_debug\n",
    "\n",
    "if False: # will not run the main function\n",
    "    lr_debug.main()"
   ]
  },
  {
   "cell_type": "code",
   "execution_count": 4,
   "id": "2f03630e-9130-496d-84b2-fb1fad7c35a8",
   "metadata": {},
   "outputs": [
    {
     "data": {
      "text/html": [
       "<div>\n",
       "<style scoped>\n",
       "    .dataframe tbody tr th:only-of-type {\n",
       "        vertical-align: middle;\n",
       "    }\n",
       "\n",
       "    .dataframe tbody tr th {\n",
       "        vertical-align: top;\n",
       "    }\n",
       "\n",
       "    .dataframe thead th {\n",
       "        text-align: right;\n",
       "    }\n",
       "</style>\n",
       "<table border=\"1\" class=\"dataframe\">\n",
       "  <thead>\n",
       "    <tr style=\"text-align: right;\">\n",
       "      <th></th>\n",
       "      <th>y</th>\n",
       "      <th>x1</th>\n",
       "      <th>x2</th>\n",
       "      <th>dataset</th>\n",
       "    </tr>\n",
       "  </thead>\n",
       "  <tbody>\n",
       "    <tr>\n",
       "      <th>0</th>\n",
       "      <td>-1.0</td>\n",
       "      <td>0.601266</td>\n",
       "      <td>0.165091</td>\n",
       "      <td>a</td>\n",
       "    </tr>\n",
       "    <tr>\n",
       "      <th>1</th>\n",
       "      <td>1.0</td>\n",
       "      <td>0.871725</td>\n",
       "      <td>0.527361</td>\n",
       "      <td>a</td>\n",
       "    </tr>\n",
       "    <tr>\n",
       "      <th>2</th>\n",
       "      <td>-1.0</td>\n",
       "      <td>0.372548</td>\n",
       "      <td>0.446609</td>\n",
       "      <td>a</td>\n",
       "    </tr>\n",
       "    <tr>\n",
       "      <th>3</th>\n",
       "      <td>-1.0</td>\n",
       "      <td>0.013577</td>\n",
       "      <td>0.051358</td>\n",
       "      <td>a</td>\n",
       "    </tr>\n",
       "    <tr>\n",
       "      <th>4</th>\n",
       "      <td>1.0</td>\n",
       "      <td>0.583032</td>\n",
       "      <td>0.710619</td>\n",
       "      <td>a</td>\n",
       "    </tr>\n",
       "  </tbody>\n",
       "</table>\n",
       "</div>"
      ],
      "text/plain": [
       "     y        x1        x2 dataset\n",
       "0 -1.0  0.601266  0.165091       a\n",
       "1  1.0  0.871725  0.527361       a\n",
       "2 -1.0  0.372548  0.446609       a\n",
       "3 -1.0  0.013577  0.051358       a\n",
       "4  1.0  0.583032  0.710619       a"
      ]
     },
     "execution_count": 4,
     "metadata": {},
     "output_type": "execute_result"
    }
   ],
   "source": [
    "colnames = ['y','x1','x2']\n",
    "# dataset a\n",
    "df_q1_a = pd.read_csv('./data/data_a.txt', sep=\"\\s+\", header=None, names = colnames)\n",
    "df_q1_a[\"dataset\"] = \"a\"\n",
    "df_q1_a.head()"
   ]
  },
  {
   "cell_type": "code",
   "execution_count": 5,
   "id": "dc5053bc-1e00-4675-9bfd-620651703d99",
   "metadata": {},
   "outputs": [
    {
     "data": {
      "text/html": [
       "<div>\n",
       "<style scoped>\n",
       "    .dataframe tbody tr th:only-of-type {\n",
       "        vertical-align: middle;\n",
       "    }\n",
       "\n",
       "    .dataframe tbody tr th {\n",
       "        vertical-align: top;\n",
       "    }\n",
       "\n",
       "    .dataframe thead th {\n",
       "        text-align: right;\n",
       "    }\n",
       "</style>\n",
       "<table border=\"1\" class=\"dataframe\">\n",
       "  <thead>\n",
       "    <tr style=\"text-align: right;\">\n",
       "      <th></th>\n",
       "      <th>y</th>\n",
       "      <th>x1</th>\n",
       "      <th>x2</th>\n",
       "      <th>dataset</th>\n",
       "    </tr>\n",
       "  </thead>\n",
       "  <tbody>\n",
       "    <tr>\n",
       "      <th>0</th>\n",
       "      <td>-1.0</td>\n",
       "      <td>0.595663</td>\n",
       "      <td>0.193072</td>\n",
       "      <td>b</td>\n",
       "    </tr>\n",
       "    <tr>\n",
       "      <th>1</th>\n",
       "      <td>-1.0</td>\n",
       "      <td>0.436997</td>\n",
       "      <td>0.544807</td>\n",
       "      <td>b</td>\n",
       "    </tr>\n",
       "    <tr>\n",
       "      <th>2</th>\n",
       "      <td>1.0</td>\n",
       "      <td>0.899945</td>\n",
       "      <td>0.845922</td>\n",
       "      <td>b</td>\n",
       "    </tr>\n",
       "    <tr>\n",
       "      <th>3</th>\n",
       "      <td>-1.0</td>\n",
       "      <td>0.555064</td>\n",
       "      <td>0.009263</td>\n",
       "      <td>b</td>\n",
       "    </tr>\n",
       "    <tr>\n",
       "      <th>4</th>\n",
       "      <td>-1.0</td>\n",
       "      <td>0.074687</td>\n",
       "      <td>0.282845</td>\n",
       "      <td>b</td>\n",
       "    </tr>\n",
       "  </tbody>\n",
       "</table>\n",
       "</div>"
      ],
      "text/plain": [
       "     y        x1        x2 dataset\n",
       "0 -1.0  0.595663  0.193072       b\n",
       "1 -1.0  0.436997  0.544807       b\n",
       "2  1.0  0.899945  0.845922       b\n",
       "3 -1.0  0.555064  0.009263       b\n",
       "4 -1.0  0.074687  0.282845       b"
      ]
     },
     "execution_count": 5,
     "metadata": {},
     "output_type": "execute_result"
    }
   ],
   "source": [
    "# dataset b\n",
    "df_q1_b = pd.read_csv('./data/data_b.txt', sep=\"\\s+\", header=None, names = colnames)\n",
    "df_q1_b[\"dataset\"] = \"b\"\n",
    "df_q1_b.head()"
   ]
  },
  {
   "cell_type": "markdown",
   "id": "63e915f3-87fa-4fe7-a2cf-96a48a9589e2",
   "metadata": {
    "tags": []
   },
   "source": [
    "# Part A"
   ]
  },
  {
   "cell_type": "markdown",
   "id": "6141782d-b326-40ec-a68b-13bc5cf27a4c",
   "metadata": {},
   "source": [
    "When training the logistic regression with dataset b the model does not converge"
   ]
  },
  {
   "cell_type": "markdown",
   "id": "037a0279-6520-483d-8baa-c089f0f9542d",
   "metadata": {},
   "source": [
    "# Part B"
   ]
  },
  {
   "cell_type": "code",
   "execution_count": 6,
   "id": "ecdd4398-2e96-4113-9236-bff316cd370d",
   "metadata": {},
   "outputs": [
    {
     "data": {
      "image/png": "[encoded data removed]",
      "text/plain": [
       "<Figure size 432x288 with 1 Axes>"
      ]
     },
     "metadata": {
      "needs_background": "light"
     },
     "output_type": "display_data"
    }
   ],
   "source": [
    "sns.scatterplot(data=df_q1_a, x=\"x1\", y=\"x2\", hue = \"y\")\n",
    "plt.title(\"dataset a\", fontsize = 14)\n",
    "plt.grid(True)"
   ]
  },
  {
   "cell_type": "code",
   "execution_count": 7,
   "id": "71168378-b85a-4bd1-ad13-97548ff90bd8",
   "metadata": {},
   "outputs": [
    {
     "data": {
      "text/plain": [
       "[<matplotlib.lines.Line2D at 0x7f9c92dc7910>]"
      ]
     },
     "execution_count": 7,
     "metadata": {},
     "output_type": "execute_result"
    },
    {
     "data": {
      "image/png": "[encoded data removed]",
      "text/plain": [
       "<Figure size 576x576 with 1 Axes>"
      ]
     },
     "metadata": {
      "needs_background": "light"
     },
     "output_type": "display_data"
    }
   ],
   "source": [
    "fig, ax = plt.subplots()\n",
    "fig.set_size_inches(8, 8)\n",
    "sns.scatterplot(data=df_q1_b, x=\"x1\", y=\"x2\", hue = \"y\")\n",
    "plt.title(\"dataset b\", fontsize = 14)\n",
    "plt.grid(True)\n",
    "\n",
    "theta1 = [-52.74109217, 52.92982273, 52.69691453]\n",
    "theta2 = [-68.10040977, 68.26496086, 68.09888223]\n",
    "\n",
    "def getx2(x1, theta):\n",
    "    \"\"\"\n",
    "    returns values of x2 given an input of theta to plot\n",
    "    \"\"\"\n",
    "    x2 = (theta[2] + theta[0]*x1)/theta[1] \n",
    "    return x2\n",
    "\n",
    "x1 = np.array([0, 1])\n",
    "plt.plot(x1, getx2(x1,theta1), color = \"r\")\n",
    "plt.plot(x1, getx2(x1,theta2), \"--\", color = \"g\")\n"
   ]
  },
  {
   "cell_type": "code",
   "execution_count": 8,
   "id": "725487bd-74f7-43d8-851a-f958978da74f",
   "metadata": {},
   "outputs": [
    {
     "data": {
      "text/html": [
       "<div>\n",
       "<style scoped>\n",
       "    .dataframe tbody tr th:only-of-type {\n",
       "        vertical-align: middle;\n",
       "    }\n",
       "\n",
       "    .dataframe tbody tr th {\n",
       "        vertical-align: top;\n",
       "    }\n",
       "\n",
       "    .dataframe thead th {\n",
       "        text-align: right;\n",
       "    }\n",
       "</style>\n",
       "<table border=\"1\" class=\"dataframe\">\n",
       "  <thead>\n",
       "    <tr style=\"text-align: right;\">\n",
       "      <th></th>\n",
       "      <th>y</th>\n",
       "      <th>x1</th>\n",
       "      <th>x2</th>\n",
       "      <th>dataset</th>\n",
       "    </tr>\n",
       "  </thead>\n",
       "  <tbody>\n",
       "    <tr>\n",
       "      <th>0</th>\n",
       "      <td>-1.0</td>\n",
       "      <td>0.601266</td>\n",
       "      <td>0.165091</td>\n",
       "      <td>a</td>\n",
       "    </tr>\n",
       "    <tr>\n",
       "      <th>1</th>\n",
       "      <td>1.0</td>\n",
       "      <td>0.871725</td>\n",
       "      <td>0.527361</td>\n",
       "      <td>a</td>\n",
       "    </tr>\n",
       "    <tr>\n",
       "      <th>2</th>\n",
       "      <td>-1.0</td>\n",
       "      <td>0.372548</td>\n",
       "      <td>0.446609</td>\n",
       "      <td>a</td>\n",
       "    </tr>\n",
       "    <tr>\n",
       "      <th>3</th>\n",
       "      <td>-1.0</td>\n",
       "      <td>0.013577</td>\n",
       "      <td>0.051358</td>\n",
       "      <td>a</td>\n",
       "    </tr>\n",
       "    <tr>\n",
       "      <th>4</th>\n",
       "      <td>1.0</td>\n",
       "      <td>0.583032</td>\n",
       "      <td>0.710619</td>\n",
       "      <td>a</td>\n",
       "    </tr>\n",
       "    <tr>\n",
       "      <th>...</th>\n",
       "      <td>...</td>\n",
       "      <td>...</td>\n",
       "      <td>...</td>\n",
       "      <td>...</td>\n",
       "    </tr>\n",
       "    <tr>\n",
       "      <th>95</th>\n",
       "      <td>1.0</td>\n",
       "      <td>0.817329</td>\n",
       "      <td>0.693709</td>\n",
       "      <td>b</td>\n",
       "    </tr>\n",
       "    <tr>\n",
       "      <th>96</th>\n",
       "      <td>-1.0</td>\n",
       "      <td>0.037212</td>\n",
       "      <td>0.122634</td>\n",
       "      <td>b</td>\n",
       "    </tr>\n",
       "    <tr>\n",
       "      <th>97</th>\n",
       "      <td>1.0</td>\n",
       "      <td>0.097158</td>\n",
       "      <td>0.931522</td>\n",
       "      <td>b</td>\n",
       "    </tr>\n",
       "    <tr>\n",
       "      <th>98</th>\n",
       "      <td>1.0</td>\n",
       "      <td>0.807512</td>\n",
       "      <td>0.583752</td>\n",
       "      <td>b</td>\n",
       "    </tr>\n",
       "    <tr>\n",
       "      <th>99</th>\n",
       "      <td>-1.0</td>\n",
       "      <td>0.829861</td>\n",
       "      <td>0.086287</td>\n",
       "      <td>b</td>\n",
       "    </tr>\n",
       "  </tbody>\n",
       "</table>\n",
       "<p>200 rows × 4 columns</p>\n",
       "</div>"
      ],
      "text/plain": [
       "      y        x1        x2 dataset\n",
       "0  -1.0  0.601266  0.165091       a\n",
       "1   1.0  0.871725  0.527361       a\n",
       "2  -1.0  0.372548  0.446609       a\n",
       "3  -1.0  0.013577  0.051358       a\n",
       "4   1.0  0.583032  0.710619       a\n",
       "..  ...       ...       ...     ...\n",
       "95  1.0  0.817329  0.693709       b\n",
       "96 -1.0  0.037212  0.122634       b\n",
       "97  1.0  0.097158  0.931522       b\n",
       "98  1.0  0.807512  0.583752       b\n",
       "99 -1.0  0.829861  0.086287       b\n",
       "\n",
       "[200 rows x 4 columns]"
      ]
     },
     "execution_count": 8,
     "metadata": {},
     "output_type": "execute_result"
    }
   ],
   "source": [
    "# combine the datasets\n",
    "df_q1_comb = pd.concat([df_q1_a, df_q1_b])\n",
    "df_q1_comb"
   ]
  },
  {
   "cell_type": "code",
   "execution_count": 9,
   "id": "ae2943ef-858b-4734-929d-b1808f46f719",
   "metadata": {},
   "outputs": [
    {
     "data": {
      "text/plain": [
       "Text(0.5, 1.0, 'data from both datasets')"
      ]
     },
     "execution_count": 9,
     "metadata": {},
     "output_type": "execute_result"
    },
    {
     "data": {
      "image/png": "[encoded data removed]",
      "text/plain": [
       "<Figure size 432x288 with 1 Axes>"
      ]
     },
     "metadata": {
      "needs_background": "light"
     },
     "output_type": "display_data"
    }
   ],
   "source": [
    "sns.scatterplot(data=df_q1_comb, x=\"x1\", y=\"x2\", hue = \"y\", style = \"dataset\")\n",
    "plt.grid(True)\n",
    "plt.title(\"data from both datasets\")"
   ]
  },
  {
   "cell_type": "code",
   "execution_count": 10,
   "id": "8ae763f4-1df8-42ee-913c-9aa53f79b098",
   "metadata": {},
   "outputs": [
    {
     "name": "stdout",
     "output_type": "stream",
     "text": [
      "ranka = 3, rankb = 3\n"
     ]
    }
   ],
   "source": [
    "ranka = np.linalg.matrix_rank(df_q1_a[[\"y\", \"x1\", \"x2\"]].values)\n",
    "rankb = np.linalg.matrix_rank(df_q1_b[[\"y\", \"x1\", \"x2\"]].values)\n",
    "\n",
    "print(f\"{ranka = }, {rankb = }\")"
   ]
  },
  {
   "cell_type": "markdown",
   "id": "11461809-5c1f-43dd-837b-3c0acf6cec8c",
   "metadata": {},
   "source": [
    "both datasets have a rank of 3 which means the problem is not that the data is x2 is linerally dependent of x1 and y. This looked aparent from plotting the dataset but I just wanted to make sure."
   ]
  },
  {
   "cell_type": "markdown",
   "id": "84a7a769-ee43-42fd-98a4-aa8fa80d8716",
   "metadata": {},
   "source": [
    "When editing the plot of dataset b in chunk __ I noticed that the theta vectors from 10,000 and 20,000 iterations are a multiple of each other. Upon further inspection it appears that the data is linearlly seperable. This implies $\\theta$ is not a point but a plane and we are trying to minimize the loss function which happens when we reach inf values because the sigmoid function bounds $p(y\\vert x)$ between 0 and 1 and we cannot get actually get exactly 0 or 1 with it. "
   ]
  },
  {
   "cell_type": "markdown",
   "id": "20b381e6-f309-49a2-8e84-030bc427dced",
   "metadata": {
    "tags": []
   },
   "source": [
    "# Part C"
   ]
  },
  {
   "cell_type": "markdown",
   "id": "1d934575-ee9d-4d6c-a40b-cfe1cda8e43c",
   "metadata": {},
   "source": [
    "* i\n",
    "\n",
    "This would not help. The learning rate does not affect the gradient at a given set of theta, thus the model would not converge.\n",
    "\n",
    "* ii\n",
    "\n",
    "This would not help. The learning rate does not affect the gradient at a given set of theta, thus the model would not converge.\n",
    "\n",
    "* iii\n",
    "\n",
    "This would help. As theta increases eventually the penalty term would overtake any gains in the loss function and would allow for the model to converge.\n",
    "\n",
    "* iv\n",
    "\n",
    "This would not help. Changing the data linearly implies that the data is still linearlly seperable. \n",
    "\n",
    "* v\n",
    "\n",
    "This would potentially help. If noise is added the the data might not be linearlly seperable any longer but this is not a guarantee. "
   ]
  },
  {
   "cell_type": "markdown",
   "id": "400e0c8c-17b8-4a2b-903c-1ac65bd3dd27",
   "metadata": {},
   "source": [
    "# Part D"
   ]
  },
  {
   "cell_type": "markdown",
   "id": "cf0fd4e8-5dd2-4779-8de9-21e380656c1d",
   "metadata": {},
   "source": [
    "SVM's using the hinge loss are not vulnerable to datasets that are linearlly seperable because they work to find the geometric margin not the functional margin."
   ]
  },
  {
   "cell_type": "markdown",
   "id": "01764a85-5bcf-4e05-a863-3946db04ce75",
   "metadata": {},
   "source": [
    "# Question 2"
   ]
  },
  {
   "cell_type": "markdown",
   "id": "89a99614-0366-4d2f-9ce6-45b0f6113a97",
   "metadata": {
    "tags": []
   },
   "source": [
    "# Part A"
   ]
  },
  {
   "cell_type": "markdown",
   "id": "85139146-e683-4697-8536-9b9b95af3a14",
   "metadata": {},
   "source": [
    "$$\n",
    "\\nabla J(\\theta) = \\sum_{i=1}^m \\left(y^{(i)}- h_{\\theta}\\left(x^{(i)}\\right)\\right) = X^T\\left(Y- h_{\\theta}\\left(X\\right)\\right)\n",
    "$$"
   ]
  },
  {
   "cell_type": "markdown",
   "id": "accd6f35-79e6-4eca-8f01-ada6948d4392",
   "metadata": {},
   "source": [
    "where\n",
    "\n",
    "$$\n",
    "X^T = \n",
    "\\begin{bmatrix}\n",
    "\\mid & \\mid & & \\mid \\\\\n",
    "x^{(1)} & x^{(2)} & \\vdots & x^{(m)} \\\\\n",
    "\\mid & \\mid & & \\mid \\\\\n",
    "\\end{bmatrix} \n",
    "= \n",
    "\\begin{bmatrix}\n",
    "1 & 1 & \\cdots & 1 \\\\\n",
    "x^{(1)}_1 & x^{(2)}_1 & \\cdots & x^{(m)}_1 \\\\\n",
    "x^{(1)}_2 & x^{(2)}_2 & \\cdots & x^{(m)}_2 \\\\\n",
    "\\vdots & \\vdots & \\vdots & \\vdots \\\\\n",
    "x^{(1)}_d & x^{(2)}_d & \\vdots & x^{(m)}_d \\\\\n",
    "\\end{bmatrix}\n",
    "$$\n",
    "\n",
    "$$\n",
    "Y = \n",
    "\\begin{bmatrix}\n",
    "y^{(1)} \\\\\n",
    "y^{(2)} \\\\\n",
    "\\vdots \\\\\n",
    "y^{(m)}\n",
    "\\end{bmatrix} \n",
    "$$"
   ]
  },
  {
   "cell_type": "markdown",
   "id": "5cf849ef-5ed8-4f1a-b11e-267752df5c3b",
   "metadata": {},
   "source": [
    "Let $\\theta^{*}$ be the set of parameters minimizes $J(\\theta)$ ie $\\nabla J(\\theta^*) = 0$. Thus we get\n",
    "\n",
    "$$\n",
    "X^T\\left(Y- h_{\\theta^*}\\left(X\\right)\\right) = 0\n",
    "$$"
   ]
  },
  {
   "cell_type": "markdown",
   "id": "2ad289c7-3495-4733-a278-4aa5f0a07af0",
   "metadata": {},
   "source": [
    "$$\n",
    "\\implies \\begin{bmatrix}\n",
    "1 & 1 & \\cdots & 1 \\\\\n",
    "x^{(1)}_1 & x^{(2)}_1 & \\cdots & x^{(m)}_1 \\\\\n",
    "x^{(1)}_2 & x^{(2)}_2 & \\cdots & x^{(m)}_2 \\\\\n",
    "\\vdots & \\vdots & \\vdots & \\vdots \\\\\n",
    "x^{(1)}_d & x^{(2)}_d & \\vdots & x^{(m)}_d \\\\\n",
    "\\end{bmatrix}\n",
    "\\begin{bmatrix}\n",
    "y^{(1)} - P(y^{(1)}=1 \\vert x^{(1)}; \\theta^*)\\\\\n",
    "y^{(2)} - P(y^{(2)}=1 \\vert x^{(2)}; \\theta^*)\\\\\n",
    "\\vdots \\\\\n",
    "y^{(m)} - P(y^{(im)}=1 \\vert x^{(m)}; \\theta^*)\n",
    "\\end{bmatrix} \n",
    " = 0\n",
    "$$"
   ]
  },
  {
   "cell_type": "markdown",
   "id": "2a26b62d-4e35-4bd6-9f0c-8ab3dc15b50e",
   "metadata": {},
   "source": [
    "$$\n",
    "\\implies \\sum_{i=1}^m  y^{(i)} - P(y^{(i)}=1 \\vert x^{(i)}; \\theta^*) = 0\n",
    "$$"
   ]
  },
  {
   "cell_type": "markdown",
   "id": "30fb5531-9e31-4e76-a60a-f4b3a2916c4d",
   "metadata": {},
   "source": [
    "$$\n",
    "\\implies \\frac{1}{m}\\sum_{i=1}^m  y^{(i)} = \\frac{1}{m}\\sum_{i=1}^m P(y^{(i)}=1 \\vert x^{(i)}; \\theta^*)\n",
    "$$"
   ]
  },
  {
   "cell_type": "markdown",
   "id": "d3d37482-f572-44c2-a30e-48c3a67305fd",
   "metadata": {},
   "source": [
    "$$\n",
    "\\implies \\frac{\\sum_{i = 1}^m I(y^{(i)}=1)}{\\vert \\{i \\in I_{(0,1)}\\} \\vert} = \\frac{\\sum_{i\\in I_{(0,1)}} P(y^{(i)}=1 \\vert x^{(i)}; \\theta)}{\\vert \\{i \\in I_{(0,1)}\\} \\vert}\n",
    "$$"
   ]
  },
  {
   "cell_type": "markdown",
   "id": "aaddae15-5fdf-44e6-9161-b12dac6c9964",
   "metadata": {},
   "source": [
    "which is what we wanted to show."
   ]
  },
  {
   "cell_type": "markdown",
   "id": "f50feaad-2f5a-4bcb-bd49-7ca6a318f0fb",
   "metadata": {},
   "source": [
    "# Part B"
   ]
  },
  {
   "cell_type": "markdown",
   "id": "30845ab7-5d18-4751-b796-eb480f12c8c5",
   "metadata": {},
   "source": [
    "* Does a perfectly calibrated model imply the model achieves perfect accuracy?\n",
    "\n",
    "No. Assume for the sake of contradiction that a perfectly calibrated model implies the model achieves perfect accuracy. let $(a,b) = (0.5, 1)$ then all predictions are $y^{(i)} = 1$ for $i \\in I_{(0.5,1)}$ (if $I_{(0.5,1)}$ is empty then switch the signs of all y's). However $P(y^{(i)}=1 \\vert x^{(i)}; \\theta) < 1$, thus \n",
    "\n",
    "$$\n",
    "\\sum_{i\\in I_{(0.5,1)}} P(y^{(i)}=1 \\vert x^{(i)}; \\theta) < \\vert S \\vert = \\sum_{i\\in I_{(0.5,1)}} I(y^{(i)} = 1) = \\sum_{i\\in I_{(0.5,1)}} y^{(i)}\n",
    "$$\n",
    "\n",
    "where $\\vert S \\vert = \\vert I_{(0.5,1)} \\vert$. However, our model is perfectly calibrated which implies \n",
    "\n",
    "$$\n",
    "\\sum_{i\\in I_{(0.5,1)}}  y^{(i)} = \\sum_{i\\in I_{(0.5,1)}} P(y^{(i)}=1 \\vert x^{(i)}; \\theta)\n",
    "$$\n",
    "\n",
    "which is a contradiction, Thus a perfectly calibrated model does not imply the model achieves perfect accuracy. QED\n"
   ]
  },
  {
   "cell_type": "markdown",
   "id": "44ee4bb3-7911-4456-9a2a-5d9fddedc52c",
   "metadata": {},
   "source": [
    "* Converse - Does a model that achieves perfect accuracy imply the model is perfectly calibrated?\n",
    "\n",
    "Assume a Model achieves perfect accuracy. If the model, $h_\\theta(x)$ outputs 0 or 1 for all $x$ then $\\vert I_{(a,b)} \\vert = 0$ for all sets of $(a,b)\\subseteq (0,1)$. Thus\n",
    "\n",
    "$$\n",
    "\\sum_{i\\in I_{(a,b)}}  y^{(i)} = 0 = \\sum_{i\\in I_{(a,b)}} P(y^{(i)}=1 \\vert x^{(i)}; \\theta)\n",
    "$$\n",
    "\n",
    "which implies the model is perfectly calibrated.\n",
    "\n",
    "However, if the model has output in $[0,1]$ and there exsts $x^*$ such that $h_\\theta(x^*) \\in (0,1)$. WLOG pick an $x^*$ such that $h_\\theta(x^*) > 0.5$. Then let $(a,b) = (0.5, 1)$, then all predictions are $y^{(i)} = 1$ for $i \\in I_{(0.5,1)}$ and $\\vert I_{(0.5,1)}\\vert = \\vert S \\vert > 0$. Thus we get\n",
    "\n",
    "$$\n",
    "P(y^{(i)}=1 \\vert x^{(i)}; \\theta) < 1\n",
    "$$\n",
    "\n",
    "$$\n",
    "\\implies \\sum_{i\\in I_{(0.5,1)}} P(y^{(i)}=1 \\vert x^{(i)}; \\theta) < \\vert S \\vert < \\sum_{i\\in I_{(0.5,1)}} y^{(i)}\n",
    "$$\n",
    "\n",
    "which implies the model is not perfectly calibrated. \n",
    "\n",
    "Thus we have shown that perfect accuracy implies perfect calibration when the range of $h_\\theta(x)$ is $\\{0,1\\}$ but not when the range is a subset of $[0,1]$."
   ]
  },
  {
   "cell_type": "markdown",
   "id": "fd38257e-b16d-423c-bf1d-cb5c1a152d20",
   "metadata": {
    "tags": []
   },
   "source": [
    "# Part C"
   ]
  },
  {
   "cell_type": "markdown",
   "id": "df2a7d7c-281e-42e6-b80a-40bb9592144c",
   "metadata": {},
   "source": [
    "$L_2$ regularization will decrease the magnitude of the parameters. Decreasing the magnitude of the parameters implies $\\theta^Tx$ will have a smaller magnitude, thus our prediction for x is less confident, therefore $L_2$ regularization \"pushes\" $h_\\theta(x)$ closer to 0.5. This decreases our confidence of each prediction, but will help prevent overfitting. Note: this explination assumes the regularization occurs on the bias term as well. If the regularization does not occur on the bias term then the prediction will get closer to $p(y)$ instead of 0.5."
   ]
  },
  {
   "cell_type": "markdown",
   "id": "48ccd5c5-6ce4-446e-a5db-eaf6b75deaec",
   "metadata": {},
   "source": [
    "# Question 3"
   ]
  },
  {
   "cell_type": "markdown",
   "id": "b4031ba9-fb61-47c4-a787-36a996eaa252",
   "metadata": {},
   "source": [
    "Assume for the sake of contradiction that $\\Vert \\theta_{MAP} \\Vert_2 > \\Vert \\theta_{ML} \\Vert_2$. By definition of the maximum likelihood estimate\n",
    "\n",
    "$$\n",
    "\\prod_{i=1}^m p(y^{(i)}\\vert x^{(i)}; \\theta_{ML}) \\ge \\prod_{i=1}^m p(y^{(i)}\\vert x^{(i)}; \\theta_{MAP})\n",
    "$$\n",
    "\n"
   ]
  },
  {
   "cell_type": "markdown",
   "id": "c4e2f3e1-7b07-4e6b-9982-96ea50b933ac",
   "metadata": {},
   "source": [
    "Additionally, $p(\\theta_{ML}) > p(\\theta_{MAP})$ because $p(\\theta)$ decrease when the magnitude of $\\theta$ increases, so we get\n",
    "\n",
    "$$\n",
    "p(\\theta_{ML})\\prod_{i=1}^m p(y^{(i)}\\vert x^{(i)}; \\theta_{ML}) > p(\\theta_{MAP})\\prod_{i=1}^m p(y^{(i)}\\vert x^{(i)}; \\theta_{MAP})\n",
    "$$\n",
    "\n",
    "which is a contradiction because $\\theta_{MAP}$ is the $\\arg\\max p(\\theta)\\prod_{i=1}^m p(y^{(i)}\\vert x^{(i)}; \\theta)$ so $p(\\theta_{ML})\\prod_{i=1}^m p(y^{(i)}\\vert x^{(i)}; \\theta_{ML})$ cannot be greater than $p(\\theta_{MAP})\\prod_{i=1}^m p(y^{(i)}\\vert x^{(i)}; \\theta_{MAP})$. Thus $\\Vert \\theta_{MAP} \\Vert_2 \\le \\Vert \\theta_{ML} \\Vert_2$. QED"
   ]
  },
  {
   "cell_type": "markdown",
   "id": "492e4210-b34e-4e06-8ce5-007ca322bbac",
   "metadata": {},
   "source": [
    "# Question 4"
   ]
  },
  {
   "cell_type": "markdown",
   "id": "4cb1c36b-fb68-4877-ae9b-587c5c7d9296",
   "metadata": {
    "jp-MarkdownHeadingCollapsed": true,
    "tags": []
   },
   "source": [
    "* (a) $k_1 + k_2$\n",
    "\n",
    "Is a Kernel.\n",
    "\n",
    "$$\n",
    "x^T (K_1 + K_2) x = x^TK_1x + x^TK_2x \\ge 0\n",
    "$$"
   ]
  },
  {
   "cell_type": "markdown",
   "id": "b9068731-b6a0-4f5c-8a89-4c90a1d61f88",
   "metadata": {},
   "source": [
    "* (b) $K_1 - K_2$\n",
    "\n",
    "Is not a kernel. Let $K_2 = 2K_1$ so we get\n",
    "\n",
    "$$\n",
    "x^T(K_1-K_2)x = x^T(-K_1)x = -\\left(x^TK_1x\\right) \\le 0\n",
    "$$"
   ]
  },
  {
   "cell_type": "markdown",
   "id": "3d860b4a-01a8-49b6-8f39-f580176f198c",
   "metadata": {},
   "source": [
    "* (c) $aK_1$, $a \\ge 0$\n",
    "\n",
    "Is a Kernel.\n",
    "\n",
    "$$\n",
    "x^TaK_1x = a\\left(x^TK_1x\\right) \\ge 0\n",
    "$$"
   ]
  },
  {
   "cell_type": "markdown",
   "id": "c211fceb-73fe-43b3-a40b-8f3fb1b16013",
   "metadata": {},
   "source": [
    "* (d) $-aK_1$\n",
    "\n",
    "Is not a Kernel.\n",
    "\n",
    "$$\n",
    "x^T\\left(-aK_1\\right)x = -a\\left(x^TK_1x\\right) \\le 0\n",
    "$$"
   ]
  },
  {
   "cell_type": "markdown",
   "id": "1739f64d-59de-4659-b74e-be961d7a3e82",
   "metadata": {},
   "source": [
    "* (e) $K_1K_2$\n",
    "\n",
    "Is a Kernel.\n",
    "\n"
   ]
  },
  {
   "cell_type": "markdown",
   "id": "9ebd70c4-fca5-46ed-9c59-96af6d3b834b",
   "metadata": {},
   "source": [
    "Could not figure this out. If matrices $A,B$ are PSD then it is not gauranteed that $AB$ is psd as seen [here](https://math.stackexchange.com/questions/113842/is-the-product-of-symmetric-positive-semidefinite-matrices-positive-definite). "
   ]
  },
  {
   "cell_type": "markdown",
   "id": "c7fdcdcc-251d-424f-b9b3-b6d94565dce6",
   "metadata": {},
   "source": [
    "Let $K_p(x,z) = K_1(x,z)K_2(x,z)$. "
   ]
  },
  {
   "cell_type": "markdown",
   "id": "8aabe05c-b302-4821-8abf-099e00cdff89",
   "metadata": {},
   "source": [
    "the solution can be found here\n",
    "\n",
    "https://home.ttic.edu/~dmcallester/ttic101-07/lectures/kernels/kernels.pdf\n",
    "\n",
    "https://stats.stackexchange.com/questions/48509/proof-of-closeness-of-kernel-functions-under-pointwise-product\n",
    "\n",
    "https://www.reddit.com/r/learnmachinelearning/comments/92p693/is_the_product_of_two_kernels_as_in_svms_also/\n",
    "\n",
    "https://www.quora.com/How-do-I-formally-proof-the-product-of-two-kernels-is-a-kernel-If-K1-x-x1-and-K2-x-x2-are-both-kernel-function-then-K1-x-x1-K2-x-x2-is-also-a-kernel"
   ]
  },
  {
   "cell_type": "markdown",
   "id": "dd6eccb2-ed96-4e4d-9e01-14d79a1b152a",
   "metadata": {},
   "source": [
    "* (f) $f(x)f(z)$\n",
    "\n",
    "Is not a Kernel. let $f(y) = y$ and let $x,z\\in \\mathbb{R}$. If $v\\in\\mathbb{R}$, $x=1$ and $z = -1$ then $vf(x)f(z)v = -v^2 < 0$ so $f(x)f(z)$ is not PSD."
   ]
  },
  {
   "cell_type": "markdown",
   "id": "f1ecb151-05b1-469f-a9ff-1c125521855d",
   "metadata": {},
   "source": [
    "* (g) $K_3(\\phi(x),\\phi(z))$\n",
    "\n",
    "Is a Kernel. We know that a vector $x \\in \\mathbb{R}^n$ and $\\phi(x) \\subseteq \\mathbb{R}^d$. Since $K_3$ is a kernel in $\\mathbb{R}^d$ it is also a kernel for any subset of $\\mathbb{R}^d$. Since $\\phi(x) \\subseteq \\mathbb{R}^d$ $K_3$ is a kernel for $\\phi(x),\\phi(z)$."
   ]
  },
  {
   "cell_type": "markdown",
   "id": "6bbe04bc-9d1e-414a-97bf-1a471fef87fc",
   "metadata": {},
   "source": [
    "* (h) $p(K_1(x,z))$\n",
    "\n",
    "Is a Kernel. \n",
    "\n",
    "$$\n",
    "y^Tp(K_1(x,z))y = y^T \\sum_{i=1}^\\infty \\left(a_i K_1^i\\right) y = \\sum_{i=1}^\\infty a_i y^TK_1^iy\n",
    "$$\n",
    "\n",
    "By definition $a_i \\ge 0$. $y^TK_1^iy \\ge 0$, which folows from applying induction to part e so $a_i y^TK_1^iy \\ge 0$ for all $i$, thus the sum is $\\ge 0$ so $p(K_1(x,z))$ is PSD. QED"
   ]
  },
  {
   "cell_type": "markdown",
   "id": "55301312-4de1-480c-9683-0d37e3ba050e",
   "metadata": {
    "tags": []
   },
   "source": [
    "# Question 5"
   ]
  },
  {
   "cell_type": "markdown",
   "id": "78b11532-3f85-4779-8e48-a76a9bde4b19",
   "metadata": {},
   "source": [
    "This yt video does a good job explining the problem\n",
    "\n",
    "https://www.youtube.com/watch?v=cIxfFoPHe3M"
   ]
  },
  {
   "cell_type": "markdown",
   "id": "1564e888-123e-4493-ab97-e9496238f53c",
   "metadata": {
    "tags": []
   },
   "source": [
    "# Part A"
   ]
  },
  {
   "cell_type": "markdown",
   "id": "f554d678-ab2d-4cb1-b154-0dac9174ae3d",
   "metadata": {},
   "source": [
    "$y\\in\\{-1,1\\}$\n",
    "\n",
    "$g(z) = sign(z)$\n",
    "\n",
    "$h_\\theta(x) = g(\\theta^Tx)$\n",
    "\n",
    "The high-dimensional parameter vector $\\theta^{(i)}$"
   ]
  },
  {
   "cell_type": "markdown",
   "id": "e73ed7da-10ff-4f94-baf9-c51b2e21be27",
   "metadata": {},
   "source": [
    "For this problem assume at some point $\\theta$ can be represented as \n",
    "\n",
    "$$\n",
    "\\theta^{(i)} = \\sum_{j=1}^n \\beta_j^{(i)} \\phi\\left(x^{(j)}\\right)\n",
    "$$"
   ]
  },
  {
   "cell_type": "markdown",
   "id": "75e2f7f8-e986-48a0-a58e-96ce163dddbf",
   "metadata": {},
   "source": [
    "Let $c_i$ be 0 if the $i^{th}$ training example is predicted correctly and 1 if the model makes the incorrect prediction using $\\theta^{(i-1)}$. Thus\n",
    "\n",
    "$$\n",
    "\\theta^{(i)} = \\theta^{(i-1)} + \\alpha c_i y^{(i)} \\phi(x^{(i)}) = \\sum_{j=1}^i \\alpha c_j y^{(j)} \\phi(x^{(j)})\n",
    "$$"
   ]
  },
  {
   "cell_type": "markdown",
   "id": "5b5b42e0-b50f-4b4a-8a73-beb8efc2001e",
   "metadata": {},
   "source": [
    "Thus $\\beta_j = \\alpha c_j y^{(j)}$. The high-dimensional parameter vector $\\theta^{(i)}$ can thus be represented in terms of $\\beta$'s."
   ]
  },
  {
   "cell_type": "markdown",
   "id": "44448853-0bfe-44b9-bef0-03516431c9c6",
   "metadata": {},
   "source": [
    "# Part B"
   ]
  },
  {
   "cell_type": "markdown",
   "id": "81c57e69-7807-4a66-8d8b-8dee7f3fa9c2",
   "metadata": {},
   "source": [
    "$$\n",
    "h_{\\theta^{(i)}}(x^{(i+1)}) = g(\\theta^{(i)T}x^{(i+1)})\n",
    "$$"
   ]
  },
  {
   "cell_type": "markdown",
   "id": "2dad1582-3145-43af-aa27-be1a5f39a989",
   "metadata": {},
   "source": [
    "$$\n",
    "= g \\left(\\sum_{j=1}^n \\beta_j^{(i)} \\phi(x^{(j)})^T \\phi(x^{(i+1)})\\right)\n",
    "$$"
   ]
  },
  {
   "cell_type": "markdown",
   "id": "71503b05-83d8-41e0-a332-1495855f7fac",
   "metadata": {},
   "source": [
    "Let our kernel be the dot prodct of our transformation $\\phi$, so our kernel is\n",
    "\n",
    "$$\n",
    "K(x^{(k)},x^{(l)}) = \\langle\\phi\\left(x^{(k)}\\right),\\phi\\left(x^{(l)}\\right)\\rangle\n",
    "$$"
   ]
  },
  {
   "cell_type": "markdown",
   "id": "358c6ddd-767c-48a3-90c8-4bb6ee3850c8",
   "metadata": {},
   "source": [
    "Thus we get\n",
    "\n",
    "$$\n",
    "h_{\\theta^{(i)}}(x^{(i+1)}) = g \\left(\\sum_{j=1}^n \\beta_j^{(i)} \\phi(x^{(j)})^T \\phi(x^{(i+1)})\\right) = g \\left(\\sum_{j=1}^n \\beta_j^{(i)} K\\left(x^{(j)}, x^{(i+1)}\\right)\\right) \n",
    "$$\n"
   ]
  },
  {
   "cell_type": "markdown",
   "id": "e40ac084-8413-44bd-8f77-9e6b874e5ac0",
   "metadata": {
    "tags": []
   },
   "source": [
    "# Part C"
   ]
  },
  {
   "cell_type": "markdown",
   "id": "c96eee79-3948-45c8-8ffb-175a9d3155f1",
   "metadata": {},
   "source": [
    "Initialize $c_1:c_n$ to 0.\n",
    "\n",
    "For i in 1 to n:\n",
    "\n",
    "&emsp; If $\\left(y^{(i)} \\sum_{j=1}^n \\alpha c_j y^{(j)} K(x^{(j)}, x^{(i)}) < 0\\right)$:\n",
    "\n",
    "&emsp;&emsp; $c_i = 1$"
   ]
  },
  {
   "cell_type": "markdown",
   "id": "d615fc9a-8d48-4a6c-816f-ef10b7aa23bd",
   "metadata": {},
   "source": [
    "# Question 6"
   ]
  },
  {
   "cell_type": "markdown",
   "id": "9c8cd6a0-4d09-473b-904e-bdb84093161a",
   "metadata": {},
   "source": [
    "$$\n",
    "\\phi_{y=1} = \\frac{\\#(y^{(i)} = 1)}{n}\n",
    "$$"
   ]
  },
  {
   "cell_type": "markdown",
   "id": "6d0fe5d7-52dc-4374-9a38-03d635b37ee3",
   "metadata": {},
   "source": [
    "$$\n",
    "\\phi_{y=0} = \\frac{\\#(y^{(i)} = 0)}{n} = 1 - \\phi_{y=1}\n",
    "$$"
   ]
  },
  {
   "cell_type": "markdown",
   "id": "ea343664-f71c-4cf5-8fb9-0e7228e45f32",
   "metadata": {},
   "source": [
    "$$\n",
    "\\phi_{k\\vert y = 1} = \\frac{1 + \\sum_{i=1}^n \\sum_{j=1}^{d_i} I\\left(x_j^{(i)} = k \\wedge y^{(i)} = 1 \\right)}{\\vert V \\vert + \\sum_{i=1}^n I\\left(y^{(i)} = 1 \\right)d_i}\n",
    "$$"
   ]
  },
  {
   "cell_type": "markdown",
   "id": "1a4e53a0-0b2b-48c4-ae57-e6e029ea918e",
   "metadata": {},
   "source": [
    "$$\n",
    "\\phi_{k\\vert y = 0} = \\frac{1 + \\sum_{i=1}^n \\sum_{j=1}^{d_i} I\\left(x_j^{(i)} = k \\wedge y^{(i)} = 0 \\right)}{\\vert V \\vert + \\sum_{i=1}^n I\\left(y^{(i)} = 0 \\right)d_i}\n",
    "$$"
   ]
  },
  {
   "cell_type": "markdown",
   "id": "ddabf40c-8cc9-4f24-b44d-d85c469d7e9e",
   "metadata": {},
   "source": [
    "-----"
   ]
  },
  {
   "cell_type": "markdown",
   "id": "4934a73d-94f8-42b5-8fa2-ad88c529a3e0",
   "metadata": {},
   "source": [
    "$$\n",
    "P(y\\vert x) = \\frac{p(x\\vert y)p(y)}{p(x)}\n",
    "$$"
   ]
  },
  {
   "cell_type": "markdown",
   "id": "a1bcb639-e5fe-47cd-bd92-9112bae7aa17",
   "metadata": {},
   "source": [
    "$$\n",
    "= \\frac{p(x\\vert y)p(y)}{p(x\\vert y = 1)p(y=1) + p(x\\vert y = 0)p(y=0)}\n",
    "$$"
   ]
  },
  {
   "cell_type": "markdown",
   "id": "22e29e0f-7fbd-4139-9c71-287db9750809",
   "metadata": {},
   "source": [
    "$$\n",
    "= \\frac{\\prod_{j=1}^d p(x_j\\vert y)p(y)}{\\prod_{j=1}^d p(x_j\\vert y = 1)p(y=1) + \\prod_{j=1}^d p(x_j\\vert y = 0)p(y=0)}\n",
    "$$"
   ]
  },
  {
   "cell_type": "markdown",
   "id": "e28928fc-1bdd-43ec-9e18-4294ef17c719",
   "metadata": {},
   "source": [
    "$$\n",
    "= \\frac{\\phi_y \\prod_{j=1}^d \\phi_{k=x_j\\vert y}}{\\phi_{y=1} \\prod_{j=1}^d \\phi_{k=x_j\\vert y}  + \\phi_{y=0} \\prod_{j=1}^d \\phi_{k=x_j\\vert y=0}}\n",
    "$$"
   ]
  },
  {
   "cell_type": "markdown",
   "id": "9ffa4e66-c128-4aee-ba4c-067cab916f1f",
   "metadata": {
    "tags": []
   },
   "source": [
    "# Part A"
   ]
  },
  {
   "cell_type": "markdown",
   "id": "f0b3fc7c-1a44-40e4-ab1f-c8ae143c2029",
   "metadata": {},
   "source": [
    "$$\n",
    "P(y=1\\vert x) = \\frac{p(x\\vert y=1)p(y=1)}{p(x)}\n",
    "$$"
   ]
  },
  {
   "cell_type": "markdown",
   "id": "cb43f68f-88c9-4241-87e6-217eea7c9d61",
   "metadata": {},
   "source": [
    "$$\n",
    "= \\frac{\\prod_{j=1}^d p(x_j\\vert y=1)p(y=1)}{\\prod_{j=1}^d p(x_j\\vert y = 1)p(y=1) + \\prod_{j=1}^d p(x_j\\vert y = 0)p(y=0)}\n",
    "$$"
   ]
  },
  {
   "cell_type": "markdown",
   "id": "f3c67f40-9b94-4135-8faf-bd8ddbf2be3e",
   "metadata": {},
   "source": [
    "$$\n",
    "= \\frac{\\phi_{y=1} \\prod_{j=1}^d \\phi_{k=x_j\\vert y=1}}{\\phi_{y=1} \\prod_{j=1}^d \\phi_{k=x_j\\vert y}  + \\phi_{y=0} \\prod_{j=1}^d \\phi_{k=x_j\\vert y=0}}\n",
    "$$"
   ]
  },
  {
   "cell_type": "markdown",
   "id": "c517c37b-d1b7-45d5-8d79-34a5d2c9589a",
   "metadata": {},
   "source": [
    "$$\n",
    "= \\frac{1}{1 + \\frac{\\phi_{y=0} \\prod_{j=1}^d \\phi_{k=x_j\\vert y=0}}{\\phi_{y=1} \\prod_{j=1}^d \\phi_{k=x_j\\vert y=1}}}\n",
    "$$"
   ]
  },
  {
   "cell_type": "markdown",
   "id": "283386bd-aee3-4199-8164-1997739937f7",
   "metadata": {},
   "source": [
    "$$\n",
    "= \\frac{1}{1 + \\exp \\log \\frac{\\phi_{y=0} \\prod_{j=1}^d \\phi_{k=x_j\\vert y=0}}{\\phi_{y=1} \\prod_{j=1}^d \\phi_{k=x_j\\vert y=1}}}\n",
    "$$"
   ]
  },
  {
   "cell_type": "markdown",
   "id": "2591ad0c-96f7-4ee6-bd62-5f7ac650482a",
   "metadata": {},
   "source": [
    "$$\n",
    "= \\frac{1}{1 + \\exp \\left(\\log \\phi_{y=0} + \\sum_{j=1}^{d} \\log \\phi_{k=x_j\\vert y=0} - \\log \\phi_{y=1} - \\sum_{j=1}^{d} \\log \\phi_{k=x_j\\vert y=1}\\right)}\n",
    "$$"
   ]
  },
  {
   "cell_type": "markdown",
   "id": "70f6541a-6c25-41ca-a08c-74f3911a839a",
   "metadata": {},
   "source": [
    "The code for ```nb.py``` is pasted below. ```nb_train``` and ```nb_test``` have been filled in."
   ]
  },
  {
   "cell_type": "code",
   "execution_count": 11,
   "id": "e13dd61e-2409-42dd-95af-b6f6318c0c16",
   "metadata": {},
   "outputs": [
    {
     "name": "stdout",
     "output_type": "stream",
     "text": [
      "Error: 0.0163\n"
     ]
    }
   ],
   "source": [
    "def readMatrix(file):\n",
    "    fd = open(file, 'r')\n",
    "    hdr = fd.readline()\n",
    "    rows, cols = [int(s) for s in fd.readline().strip().split()]\n",
    "    tokens = fd.readline().strip().split()\n",
    "    matrix = np.zeros((rows, cols))\n",
    "    Y = []\n",
    "    for i, line in enumerate(fd):\n",
    "        nums = [int(x) for x in line.strip().split()]\n",
    "        Y.append(nums[0])\n",
    "        kv = np.array(nums[1:])\n",
    "        k = np.cumsum(kv[:-1:2])\n",
    "        v = kv[1::2]\n",
    "        matrix[i, k] = v\n",
    "    return matrix, tokens, np.array(Y)\n",
    "\n",
    "def nb_train(matrix, category):\n",
    "    state = {}\n",
    "    N = matrix.shape[1]\n",
    "    ###################\n",
    "    # inputs\n",
    "    # matrix:\n",
    "    #    each row corresponds to a training example\n",
    "    #    column k corresponds to how many times the kth word appeared in the training example (email).\n",
    "    # category:\n",
    "    #    0 -> not spam\n",
    "    #    1 -> spam\n",
    "    # The number of columns corresponds to our vector size. Above this is definded as N.\n",
    "    # The output is the dict state. all phi values and log phi values are calculated and stored in it.\n",
    "    V = N # vocabulary size\n",
    "    \n",
    "    # calculate phi_y and log phi_y\n",
    "    state[\"phi_1\"] = category.mean()\n",
    "    state[\"phi_0\"] = 1 - state[\"phi_1\"]\n",
    "    state[\"log_phi_1\"] = np.log(state[\"phi_1\"])\n",
    "    state[\"log_phi_0\"] = np.log(state[\"phi_0\"])\n",
    "    \n",
    "    # calculate phi_(k|y=1)\n",
    "    # col sum (np.sum(axix=0)) tells us how many time the kth word appears\n",
    "    # the total amount of words in the sum over the entire spamMat matrix (spamMat.sum())\n",
    "    # the 1 in the numerator and V in denominator are used as laplace smoothing\n",
    "    spamMat = matrix[category == 1, :]\n",
    "    state[\"phi_k_giv_y1\"] = (1 + spamMat.sum(axis = 0))/(V + spamMat.sum())\n",
    "    state[\"log_phi_k_giv_y1\"] = np.log(state[\"phi_k_giv_y1\"])\n",
    "    \n",
    "    # calculate phi_(k|y=0)\n",
    "    # col sum (np.sum(axix=0)) tells us how many time the kth word appears\n",
    "    # the total amount of words in the sum over the entire spamMat matrix (notSpamMat.sum())\n",
    "    # the 1 in the numerator and V in denominator are used as laplace smoothing\n",
    "    notSpamMat = matrix[category == 0, :]\n",
    "    state[\"phi_k_giv_y0\"] = (1 + notSpamMat.sum(axis = 0))/(V + notSpamMat.sum())\n",
    "    state[\"log_phi_k_giv_y0\"] = np.log(state[\"phi_k_giv_y0\"])\n",
    "    ###################\n",
    "    return state\n",
    "\n",
    "def nb_test(matrix, state):\n",
    "    output = np.zeros(matrix.shape[0])\n",
    "    ###################\n",
    "    # inputs\n",
    "    # matrix:\n",
    "    #    each row corresponds to a training example\n",
    "    #    column k corresponds to how many times the kth word appeared in the training example (email).\n",
    "    # state:\n",
    "    #     type: dict\n",
    "    #    contains all phi and log phi parameters used to the value of each word.\n",
    "    # output is the prediction for each test.\n",
    "    \n",
    "    sumLogPhis = state[\"log_phi_0\"] - state[\"log_phi_1\"] + matrix@(state[\"log_phi_k_giv_y0\"] - state[\"log_phi_k_giv_y1\"])\n",
    "    prob = 1/(1+np.exp(sumLogPhis))\n",
    "    output[prob > 0.5] = 1\n",
    "    ###################\n",
    "    return output\n",
    "\n",
    "def evaluate(output, label):\n",
    "    error = (output != label).sum() * 1. / len(output)\n",
    "    print ('Error: %1.4f' % error)\n",
    "    return error\n",
    "\n",
    "def main():\n",
    "    trainMatrix, tokenlist, trainCategory = readMatrix('./data/MATRIX.TRAIN')\n",
    "    testMatrix, tokenlist, testCategory = readMatrix('./data/MATRIX.TEST')\n",
    "\n",
    "    state = nb_train(trainMatrix, trainCategory)\n",
    "    output = nb_test(testMatrix, state)\n",
    "\n",
    "    evaluate(output, testCategory)\n",
    "    return\n",
    "\n",
    "if __name__ == '__main__':\n",
    "    main()\n"
   ]
  },
  {
   "cell_type": "code",
   "execution_count": 12,
   "id": "4865a113-4016-4e75-aa53-47f782f16760",
   "metadata": {},
   "outputs": [],
   "source": [
    "trainMatrix, tokenlist, trainCategory = readMatrix('./data/MATRIX.TRAIN')\n",
    "testMatrix, tokenlist, testCategory = readMatrix('./data/MATRIX.TEST')"
   ]
  },
  {
   "cell_type": "code",
   "execution_count": 13,
   "id": "8e6c385f-c73c-45b7-ab27-b890acf1b89a",
   "metadata": {},
   "outputs": [
    {
     "data": {
      "text/plain": [
       "(numpy.ndarray, list, numpy.ndarray)"
      ]
     },
     "execution_count": 13,
     "metadata": {},
     "output_type": "execute_result"
    }
   ],
   "source": [
    "type(trainMatrix), type(tokenlist), type(trainCategory)"
   ]
  },
  {
   "cell_type": "code",
   "execution_count": 14,
   "id": "76920dd9-3df7-4927-930d-700fdfde69df",
   "metadata": {},
   "outputs": [
    {
     "data": {
      "text/plain": [
       "('trainMatrix', (2144, 1448), 'tokenlist', 1448, 'trainCategory', (2144,))"
      ]
     },
     "execution_count": 14,
     "metadata": {},
     "output_type": "execute_result"
    }
   ],
   "source": [
    "\"trainMatrix\", trainMatrix.shape, \"tokenlist\", len(tokenlist), \"trainCategory\", trainCategory.shape"
   ]
  },
  {
   "cell_type": "code",
   "execution_count": 15,
   "id": "7694bed7-1ce4-4597-b84b-fbce014ec90f",
   "metadata": {},
   "outputs": [
    {
     "data": {
      "text/plain": [
       "('testMatrix', (800, 1448), 'tokenlist', 1448, 'testCategory', (800,))"
      ]
     },
     "execution_count": 15,
     "metadata": {},
     "output_type": "execute_result"
    }
   ],
   "source": [
    "\"testMatrix\", testMatrix.shape, \"tokenlist\", len(tokenlist), \"testCategory\", testCategory.shape"
   ]
  },
  {
   "cell_type": "markdown",
   "id": "ea6d4c16-d32d-4198-80d9-704c26d4b486",
   "metadata": {},
   "source": [
    "Each row corresponds to a data entry and each column is the amount of times that the word appeares.\n",
    "\n",
    "After filling in the required functions and implimenting naive bayes we obtain an error of 0.0163 or 1.63%."
   ]
  },
  {
   "cell_type": "markdown",
   "id": "ddf13e72-9337-43f2-a59f-b0024a641379",
   "metadata": {},
   "source": [
    "# Part B"
   ]
  },
  {
   "cell_type": "markdown",
   "id": "13b123a0-774f-433a-a268-39c9bc6c5782",
   "metadata": {},
   "source": [
    "$$\n",
    "\\log \\frac{p(x_j=i \\vert y = 1)}{p(x_j=i \\vert y = 0)} = \\log \\frac{\\phi_{i\\vert y=1}}{\\phi_{i\\vert y=1}} = \\log \\phi_{i\\vert y=1} - \\log \\phi_{i\\vert y=0}\n",
    "$$"
   ]
  },
  {
   "cell_type": "code",
   "execution_count": 16,
   "id": "8fc74e4e-de5b-4218-a3dc-d6744e5bb984",
   "metadata": {},
   "outputs": [
    {
     "data": {
      "text/plain": [
       "array(['httpaddr', 'spam', 'unsubscrib', 'ebai', 'valet'], dtype='<U16')"
      ]
     },
     "execution_count": 16,
     "metadata": {},
     "output_type": "execute_result"
    }
   ],
   "source": [
    "state = nb_train(trainMatrix, trainCategory)\n",
    "places = np.argsort(state[\"log_phi_k_giv_y0\"] - state[\"log_phi_k_giv_y1\"])[:5]\n",
    "np.array(tokenlist)[places]"
   ]
  },
  {
   "cell_type": "markdown",
   "id": "2922259a-dabb-4a7c-8a1c-58d9cfb479bc",
   "metadata": {},
   "source": [
    "The top 5 spam words are shown above. It appears that $y=0$ corresponds to spam contradicting what I wrote in the code above."
   ]
  },
  {
   "cell_type": "markdown",
   "id": "9e90d0a0-8078-4189-be71-2b6e7dc35ef7",
   "metadata": {
    "tags": []
   },
   "source": [
    "# Part C"
   ]
  },
  {
   "cell_type": "code",
   "execution_count": 17,
   "id": "91dfd17b-b161-40a5-8625-f084204f6504",
   "metadata": {},
   "outputs": [
    {
     "name": "stdout",
     "output_type": "stream",
     "text": [
      "Error: 0.0387\n",
      "Error: 0.0262\n",
      "Error: 0.0262\n",
      "Error: 0.0187\n",
      "Error: 0.0175\n",
      "Error: 0.0163\n"
     ]
    }
   ],
   "source": [
    "df_error = pd.DataFrame({\"trainSize\":[50, 100, 200, 400, 800, 1400], \"nbError\":np.nan, \"svmError\":np.nan})\n",
    "\n",
    "for idx, size in enumerate(df_error.trainSize):\n",
    "    trainMatrix, tokenlist, trainCategory = readMatrix('./data/MATRIX.TRAIN.'+str(size))\n",
    "    state = nb_train(trainMatrix, trainCategory)\n",
    "    output = nb_test(testMatrix, state)\n",
    "    df_error.loc[idx, \"nbError\"] = evaluate(output, testCategory)"
   ]
  },
  {
   "cell_type": "code",
   "execution_count": 18,
   "id": "d6ec418f-777c-4fb1-803b-e8644f66446e",
   "metadata": {},
   "outputs": [
    {
     "data": {
      "text/plain": [
       "(0.015, 0.04)"
      ]
     },
     "execution_count": 18,
     "metadata": {},
     "output_type": "execute_result"
    },
    {
     "data": {
      "image/png": "[encoded data removed]",
      "text/plain": [
       "<Figure size 432x288 with 1 Axes>"
      ]
     },
     "metadata": {
      "needs_background": "light"
     },
     "output_type": "display_data"
    }
   ],
   "source": [
    "sns.lineplot(x = \"trainSize\",y = \"nbError\", data = df_error)\n",
    "plt.grid(True)\n",
    "plt.xlabel(\"training size\")\n",
    "plt.ylabel(\"test error\")\n",
    "plt.title(\"Naive Bayes error vs. training size\")\n",
    "plt.ylim((0.015, 0.04))"
   ]
  },
  {
   "cell_type": "markdown",
   "id": "d2000901-4440-44b2-b1b5-6742a284a6a2",
   "metadata": {},
   "source": [
    "The training set with 1400 examples performed the best on the test data."
   ]
  },
  {
   "cell_type": "markdown",
   "id": "26f0ce89-5d07-46f5-824d-1880f7b8aa58",
   "metadata": {
    "tags": []
   },
   "source": [
    "# Part D"
   ]
  },
  {
   "cell_type": "code",
   "execution_count": 19,
   "id": "a683f57d-8515-40e5-9c5a-784f8d939da5",
   "metadata": {},
   "outputs": [],
   "source": [
    "from data import svm"
   ]
  },
  {
   "cell_type": "code",
   "execution_count": 20,
   "id": "c09e236d-1213-464c-8e64-2f51cba7bf1a",
   "metadata": {},
   "outputs": [
    {
     "name": "stdout",
     "output_type": "stream",
     "text": [
      "Error: 0.0275\n",
      "Error: 0.0187\n",
      "Error: 0.0075\n",
      "Error: 0.0025\n",
      "Error: 0.0000\n",
      "Error: 0.0000\n"
     ]
    }
   ],
   "source": [
    "testMatrix, tokenlist, testCategory = svm.readMatrix('./data/MATRIX.TEST')\n",
    "\n",
    "for idx, size in enumerate(df_error.trainSize):\n",
    "    trainMatrix, tokenlist, trainCategory = svm.readMatrix('./data/MATRIX.TRAIN.'+str(size))\n",
    "    state = svm.svm_train(trainMatrix, trainCategory)\n",
    "    output = svm.svm_test(testMatrix, state)\n",
    "    df_error.loc[idx, \"svmError\"] = svm.evaluate(output, testCategory)"
   ]
  },
  {
   "cell_type": "code",
   "execution_count": 21,
   "id": "92ca6b6a-c047-4fbd-b9aa-3c25bbe3bdfc",
   "metadata": {},
   "outputs": [
    {
     "data": {
      "text/plain": [
       "Text(0.5, 1.0, 'SVM error vs. training size')"
      ]
     },
     "execution_count": 21,
     "metadata": {},
     "output_type": "execute_result"
    },
    {
     "data": {
      "image/png": "[encoded data removed]",
      "text/plain": [
       "<Figure size 432x288 with 1 Axes>"
      ]
     },
     "metadata": {
      "needs_background": "light"
     },
     "output_type": "display_data"
    }
   ],
   "source": [
    "sns.lineplot(x = \"trainSize\",y = \"svmError\", data = df_error)\n",
    "plt.grid(True)\n",
    "plt.xlabel(\"training size\")\n",
    "plt.ylabel(\"test error\")\n",
    "plt.title(\"SVM error vs. training size\")"
   ]
  },
  {
   "cell_type": "markdown",
   "id": "610274b0-6fd3-42f5-8c15-30265acaeba3",
   "metadata": {},
   "source": [
    "# Part E"
   ]
  },
  {
   "cell_type": "code",
   "execution_count": 22,
   "id": "ba57bcc3-3d9b-4756-9bc3-640952d8610d",
   "metadata": {},
   "outputs": [],
   "source": [
    "df_error.rename(columns={\"nbError\": \"Naive Bayes\", \"svmError\": \"SVM\"})\n",
    "df_part_e = pd.melt(df_error.rename(columns={\"nbError\": \"Naive Bayes\", \"svmError\": \"SVM\"}),\n",
    "                    id_vars = [\"trainSize\"], value_vars=['Naive Bayes', 'SVM'])"
   ]
  },
  {
   "cell_type": "code",
   "execution_count": 23,
   "id": "a892c77f-af60-4872-b87d-54ad555cbcc4",
   "metadata": {},
   "outputs": [
    {
     "data": {
      "text/plain": [
       "<matplotlib.legend.Legend at 0x7f9c9324cbb0>"
      ]
     },
     "execution_count": 23,
     "metadata": {},
     "output_type": "execute_result"
    },
    {
     "data": {
      "image/png": "[encoded data removed]",
      "text/plain": [
       "<Figure size 432x288 with 1 Axes>"
      ]
     },
     "metadata": {
      "needs_background": "light"
     },
     "output_type": "display_data"
    }
   ],
   "source": [
    "sns.lineplot(x = \"trainSize\",y = \"value\", hue = \"variable\", data = df_part_e)\n",
    "plt.grid(True)\n",
    "plt.xlabel(\"training size\")\n",
    "plt.ylabel(\"test error\")\n",
    "plt.title(\"Model error vs. training size\")\n",
    "plt.legend(title = \"model\")"
   ]
  },
  {
   "cell_type": "markdown",
   "id": "a29a8bee-37b5-4ae1-b732-098fe8af87b2",
   "metadata": {},
   "source": [
    "The SVM model out performs the Naive Bayes model at every training set size."
   ]
  }
 ],
 "metadata": {
  "kernelspec": {
   "display_name": "Python 3 (ipykernel)",
   "language": "python",
   "name": "python3"
  },
  "language_info": {
   "codemirror_mode": {
    "name": "ipython",
    "version": 3
   },
   "file_extension": ".py",
   "mimetype": "text/x-python",
   "name": "python",
   "nbconvert_exporter": "python",
   "pygments_lexer": "ipython3",
   "version": "3.8.12"
  }
 },
 "nbformat": 4,
 "nbformat_minor": 5
}
